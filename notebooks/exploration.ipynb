{
 "cells": [
  {
   "cell_type": "markdown",
   "id": "7c1f9e72",
   "metadata": {},
   "source": [
    "1. Are interpretable Kickstarter success prediction models equally accurate across categories? And furthermore, are models trained within specific categories more predictive within their category than models that are trained generally?\n",
    "- Train models on the whole dataset\n",
    "- Predict and analyze within each category\n",
    "- Train models on data within each category\n",
    "- Predict and analyze within each category\n",
    "- Compare and contrast predictive performance, and also feature importances. What factors matter more within each category? Are there differences?\n",
    "\n",
    "\n",
    "General analysis\n",
    "- Average goal amounts by category.\n",
    "- Success rate differences by country.\n",
    "- Correlation analysis\n",
    "- Using trees and nonlinear models + feature importances\n",
    "<!-- \n",
    "2. Which factors matter most at launch for predicting campaign success?\n",
    "- goal, duration, country, category, has_video, staff_pick, etc -->"
   ]
  },
  {
   "cell_type": "markdown",
   "id": "d9faa473",
   "metadata": {},
   "source": [
    "# LOAD"
   ]
  },
  {
   "cell_type": "code",
   "execution_count": 1,
   "id": "708dc83c",
   "metadata": {},
   "outputs": [],
   "source": [
    "import matplotlib.pyplot as plt\n",
    "import seaborn as sns\n",
    "import numpy as np\n",
    "import json\n",
    "import re\n",
    "import pandas as pd\n",
    "from utils import load_data"
   ]
  },
  {
   "cell_type": "code",
   "execution_count": 49,
   "id": "2b9ee0ac",
   "metadata": {},
   "outputs": [
    {
     "name": "stdout",
     "output_type": "stream",
     "text": [
      "83 FILES LOADED | TOTAL ROWS: 262892\n"
     ]
    }
   ],
   "source": [
    "kickstarter: pd.DataFrame = load_data(verbose = True)\n",
    "kickstarter_toy = load_data(partial = True)"
   ]
  },
  {
   "cell_type": "markdown",
   "id": "5f07d2e8",
   "metadata": {},
   "source": [
    "# PREPROCESSING\n",
    "\n",
    "0. [Feature Descriptions](#feature-descriptions)\n",
    "1. [Data Integrity Analysis]\n",
    "\n",
    "\n",
    "\n",
    "1. [Data Filtering, Leakage Prevention, and Feature Relevance Assessment](#data-filtering-leakage-prevention-and-feature-relevance-assessment)\n",
    "2. Descriptive Statistics\n",
    "3. Duplication analysis\n",
    "4. Missingness analysis\n",
    "5. Feature engineering\n",
    "6. Feature selection and dimensionality reduction"
   ]
  },
  {
   "cell_type": "markdown",
   "id": "88d615bd",
   "metadata": {},
   "source": [
    "### Feature Descriptions"
   ]
  },
  {
   "cell_type": "code",
   "execution_count": 3,
   "id": "9fad8f43",
   "metadata": {},
   "outputs": [
    {
     "name": "stdout",
     "output_type": "stream",
     "text": [
      "<class 'pandas.core.frame.DataFrame'>\n",
      "RangeIndex: 262892 entries, 0 to 262891\n",
      "Data columns (total 42 columns):\n",
      " #   Column                              Non-Null Count   Dtype  \n",
      "---  ------                              --------------   -----  \n",
      " 0   backers_count                       262892 non-null  int64  \n",
      " 1   blurb                               262811 non-null  object \n",
      " 2   category                            262892 non-null  object \n",
      " 3   converted_pledged_amount            245625 non-null  float64\n",
      " 4   country                             262892 non-null  object \n",
      " 5   country_displayable_name            262892 non-null  object \n",
      " 6   created_at                          262892 non-null  int64  \n",
      " 7   creator                             262892 non-null  object \n",
      " 8   currency                            262892 non-null  object \n",
      " 9   currency_symbol                     262892 non-null  object \n",
      " 10  currency_trailing_code              262892 non-null  bool   \n",
      " 11  current_currency                    262892 non-null  object \n",
      " 12  deadline                            262892 non-null  int64  \n",
      " 13  disable_communication               262892 non-null  bool   \n",
      " 14  fx_rate                             262892 non-null  float64\n",
      " 15  goal                                262892 non-null  float64\n",
      " 16  id                                  262892 non-null  int64  \n",
      " 17  is_disliked                         262892 non-null  bool   \n",
      " 18  is_in_post_campaign_pledging_phase  95088 non-null   object \n",
      " 19  is_launched                         262892 non-null  bool   \n",
      " 20  is_liked                            262892 non-null  bool   \n",
      " 21  is_starrable                        262892 non-null  bool   \n",
      " 22  launched_at                         262892 non-null  int64  \n",
      " 23  location                            262495 non-null  object \n",
      " 24  name                                262892 non-null  object \n",
      " 25  percent_funded                      262892 non-null  float64\n",
      " 26  photo                               262892 non-null  object \n",
      " 27  pledged                             262892 non-null  float64\n",
      " 28  prelaunch_activated                 262892 non-null  bool   \n",
      " 29  profile                             262892 non-null  object \n",
      " 30  slug                                262892 non-null  object \n",
      " 31  source_url                          262892 non-null  object \n",
      " 32  spotlight                           262892 non-null  bool   \n",
      " 33  staff_pick                          262892 non-null  bool   \n",
      " 34  state                               262892 non-null  object \n",
      " 35  state_changed_at                    262892 non-null  int64  \n",
      " 36  static_usd_rate                     262892 non-null  float64\n",
      " 37  urls                                262892 non-null  object \n",
      " 38  usd_exchange_rate                   245625 non-null  float64\n",
      " 39  usd_pledged                         245625 non-null  float64\n",
      " 40  usd_type                            262712 non-null  object \n",
      " 41  video                               164686 non-null  object \n",
      "dtypes: bool(9), float64(8), int64(6), object(19)\n",
      "memory usage: 68.4+ MB\n"
     ]
    }
   ],
   "source": [
    "kickstarter.info()"
   ]
  },
  {
   "cell_type": "markdown",
   "id": "89eb8b03",
   "metadata": {},
   "source": [
    "Grouped generally by meaning:\n",
    "\n",
    "**Identifiers & Text**\n",
    "- `id`: internal project ID\n",
    "- `name`: project title\n",
    "- `blurb`: short description\n",
    "\n",
    "**URLs & Media**\n",
    "- `slug`: URL slug of the project\n",
    "- `source_url`: The category url\n",
    "- `urls`: dictionary with urls pertaining to that project. The project front page, the rewards page, etc.\n",
    "- `photo`: dictionary with urls to the photos used in the banner, thumbnail etc.  \n",
    "- `video`: dictionary with video information  \n",
    "\n",
    "**Creator & Project Profile Information**\n",
    "- `creator`: dictionary with creator information  \n",
    "  - name, is_registered, is_email_verified, chosen_currency, is_superbacker, has_admin_message_badge, ppo_has_action, backing_action_count, avatar (image urls)\n",
    "- `profile`: dictionary with some redundant project page text information, and some page styling information\n",
    "- `category`: dictionary with categorical information about the campaign\n",
    "  - name, analytics_name, slug, position, parent_name, and some page information  \n",
    "\n",
    "**Geographic Details**\n",
    "- `country`: 2 letter country abbreviation  \n",
    "- `country_displayable_name`: human-readable country name  \n",
    "- `location`: dictionary with location information  \n",
    "  - 'id', 'name', 'slug', 'short_name', 'displayable_name', 'localized_name', 'country', 'state', 'type', 'is_root', 'expanded_country', 'urls'  \n",
    "\n",
    "\n",
    "**Goals & Currency**\n",
    "- `goal`: funding goal in the project's currency  \n",
    "- `currency`: original currency code  \n",
    "- `currency_symbol`: the display symbol for currency  \n",
    "- `currency_trailing_code`: whether symbol / code trails the number (BOOL)  \n",
    "\n",
    "**Exchange Rates**\n",
    "- `fx_rate`: snapshot FX rate (original currency to USD)  \n",
    "- `static_usd_rate`: platform's \"static\" USD rate  \n",
    "- `usd_exchange_rate`: FX used for pledged -> USD at update time  \n",
    "- `usd_type`: how USD conversion was computed  \n",
    "\n",
    "**Funding & Performance**\n",
    "- `backers_count`: number of backers (count)  \n",
    "- `pledged`: amount pledged in original currency  \n",
    "- `converted_pledged_amount`: pledged converted to USD  \n",
    "- `usd_pledged`: pledged in USD  \n",
    "- `percent_funded`: 100 * pledged / goal  \n",
    "\n",
    "**Timestamps**\n",
    "- `created_at`: date the project was first drafted  \n",
    "- `launched_at`: project's actual launch date (went live)  \n",
    "- `deadline`: scheduled ending time  \n",
    "- `state_changed_at`: date the projecct's status was last changed  \n",
    "\n",
    "**Launch & Visibility**\n",
    "- `is_launched`: whether the project was launched  \n",
    "- `prelaunch_activated`: whether a \"coming soon\" page was used  \n",
    "- `staff_pick`: a staff-curated badge  \n",
    "- `spotlight`: specially highlighted page  \n",
    "\n",
    "**Interaction & Moderation**\n",
    "- `disable_communication`: whether comments / updates are disabled  \n",
    "- `is_starrable`: whether users can \"star\" it  \n",
    "- `is_liked`, `is_disliked`: viewer specific liked or disliked (all False here)  \n",
    "- `is_in_post_campaign_pledging_phase`: whether the campaign finished and is in its pledge fulfilling phase (only for successful)  \n",
    "\n",
    "**Target**\n",
    "- `state`: project status string. Can be:  \n",
    "  - successful - reached goal by deadline (positive class)  \n",
    "  - failed - did not reach goal by deadline (negative class)  \n",
    "  - submitted - submitted for review by Kickstarter staff but not yet live  \n",
    "  - live - project is currently active and accepting pledges  \n",
    "  - canceled - creator canceled before deadline  \n",
    "  - suspended - Kickstarter suspended (ToS)  \n"
   ]
  },
  {
   "cell_type": "markdown",
   "id": "f0bc732b",
   "metadata": {},
   "source": [
    "### Data Integrity Analysis\n",
    "\n",
    "#### Duplication Analysis\n",
    "\n",
    "From a base `.duplicated().sum()` count, we observe very few \"true duplicated rows\":"
   ]
  },
  {
   "cell_type": "code",
   "execution_count": 4,
   "id": "49532061",
   "metadata": {},
   "outputs": [
    {
     "name": "stdout",
     "output_type": "stream",
     "text": [
      "True duplicated rows:  12\n"
     ]
    }
   ],
   "source": [
    "print(\"True duplicated rows: \", kickstarter.duplicated().sum())"
   ]
  },
  {
   "cell_type": "markdown",
   "id": "43bf7d77",
   "metadata": {},
   "source": [
    "However, examining duplication only considering unique `id`:"
   ]
  },
  {
   "cell_type": "code",
   "execution_count": 5,
   "id": "52e12aeb",
   "metadata": {},
   "outputs": [
    {
     "name": "stdout",
     "output_type": "stream",
     "text": [
      "Duplicate ids:  57362\n"
     ]
    }
   ],
   "source": [
    "print(\"Duplicate ids: \", kickstarter['id'].duplicated().sum())"
   ]
  },
  {
   "cell_type": "markdown",
   "id": "d77b0446",
   "metadata": {},
   "source": [
    "It's clear true duplication is not the full picture.\n",
    "- We have only 12 truly duplicate rows\n",
    "- But we have 57362 duplicate ids\n",
    "\n",
    "Something doesn't add up. Its likely that this scrape contains multiple snapshots per project. Since we do not have a column which indicates \"most updated\" row, we must make a few judgement calls.\n",
    "\n",
    "First, we want to analyze which columns are likely the \"update\" column that is causing our true duplication to be so low:"
   ]
  },
  {
   "cell_type": "code",
   "execution_count": 6,
   "id": "71e0126f",
   "metadata": {},
   "outputs": [
    {
     "data": {
      "text/html": [
       "<div>\n",
       "<style scoped>\n",
       "    .dataframe tbody tr th:only-of-type {\n",
       "        vertical-align: middle;\n",
       "    }\n",
       "\n",
       "    .dataframe tbody tr th {\n",
       "        vertical-align: top;\n",
       "    }\n",
       "\n",
       "    .dataframe thead th {\n",
       "        text-align: right;\n",
       "    }\n",
       "</style>\n",
       "<table border=\"1\" class=\"dataframe\">\n",
       "  <thead>\n",
       "    <tr style=\"text-align: right;\">\n",
       "      <th></th>\n",
       "      <th>id_feature_pair</th>\n",
       "      <th>duplication_count</th>\n",
       "    </tr>\n",
       "  </thead>\n",
       "  <tbody>\n",
       "    <tr>\n",
       "      <th>7</th>\n",
       "      <td>creator</td>\n",
       "      <td>14</td>\n",
       "    </tr>\n",
       "    <tr>\n",
       "      <th>30</th>\n",
       "      <td>source_url</td>\n",
       "      <td>1747</td>\n",
       "    </tr>\n",
       "    <tr>\n",
       "      <th>22</th>\n",
       "      <td>location</td>\n",
       "      <td>43834</td>\n",
       "    </tr>\n",
       "    <tr>\n",
       "      <th>14</th>\n",
       "      <td>fx_rate</td>\n",
       "      <td>48054</td>\n",
       "    </tr>\n",
       "    <tr>\n",
       "      <th>3</th>\n",
       "      <td>converted_pledged_amount</td>\n",
       "      <td>56379</td>\n",
       "    </tr>\n",
       "    <tr>\n",
       "      <th>37</th>\n",
       "      <td>usd_exchange_rate</td>\n",
       "      <td>56439</td>\n",
       "    </tr>\n",
       "    <tr>\n",
       "      <th>40</th>\n",
       "      <td>video</td>\n",
       "      <td>56455</td>\n",
       "    </tr>\n",
       "    <tr>\n",
       "      <th>38</th>\n",
       "      <td>usd_pledged</td>\n",
       "      <td>56946</td>\n",
       "    </tr>\n",
       "    <tr>\n",
       "      <th>26</th>\n",
       "      <td>pledged</td>\n",
       "      <td>56960</td>\n",
       "    </tr>\n",
       "    <tr>\n",
       "      <th>24</th>\n",
       "      <td>percent_funded</td>\n",
       "      <td>56960</td>\n",
       "    </tr>\n",
       "    <tr>\n",
       "      <th>0</th>\n",
       "      <td>backers_count</td>\n",
       "      <td>56983</td>\n",
       "    </tr>\n",
       "    <tr>\n",
       "      <th>39</th>\n",
       "      <td>usd_type</td>\n",
       "      <td>57170</td>\n",
       "    </tr>\n",
       "    <tr>\n",
       "      <th>11</th>\n",
       "      <td>current_currency</td>\n",
       "      <td>57182</td>\n",
       "    </tr>\n",
       "    <tr>\n",
       "      <th>35</th>\n",
       "      <td>static_usd_rate</td>\n",
       "      <td>57347</td>\n",
       "    </tr>\n",
       "    <tr>\n",
       "      <th>20</th>\n",
       "      <td>is_starrable</td>\n",
       "      <td>57351</td>\n",
       "    </tr>\n",
       "    <tr>\n",
       "      <th>33</th>\n",
       "      <td>state</td>\n",
       "      <td>57356</td>\n",
       "    </tr>\n",
       "    <tr>\n",
       "      <th>34</th>\n",
       "      <td>state_changed_at</td>\n",
       "      <td>57356</td>\n",
       "    </tr>\n",
       "    <tr>\n",
       "      <th>31</th>\n",
       "      <td>spotlight</td>\n",
       "      <td>57358</td>\n",
       "    </tr>\n",
       "    <tr>\n",
       "      <th>17</th>\n",
       "      <td>is_in_post_campaign_pledging_phase</td>\n",
       "      <td>57358</td>\n",
       "    </tr>\n",
       "    <tr>\n",
       "      <th>23</th>\n",
       "      <td>name</td>\n",
       "      <td>57359</td>\n",
       "    </tr>\n",
       "    <tr>\n",
       "      <th>1</th>\n",
       "      <td>blurb</td>\n",
       "      <td>57359</td>\n",
       "    </tr>\n",
       "    <tr>\n",
       "      <th>25</th>\n",
       "      <td>photo</td>\n",
       "      <td>57360</td>\n",
       "    </tr>\n",
       "    <tr>\n",
       "      <th>15</th>\n",
       "      <td>goal</td>\n",
       "      <td>57360</td>\n",
       "    </tr>\n",
       "    <tr>\n",
       "      <th>28</th>\n",
       "      <td>profile</td>\n",
       "      <td>57360</td>\n",
       "    </tr>\n",
       "    <tr>\n",
       "      <th>21</th>\n",
       "      <td>launched_at</td>\n",
       "      <td>57361</td>\n",
       "    </tr>\n",
       "    <tr>\n",
       "      <th>12</th>\n",
       "      <td>deadline</td>\n",
       "      <td>57361</td>\n",
       "    </tr>\n",
       "    <tr>\n",
       "      <th>18</th>\n",
       "      <td>is_launched</td>\n",
       "      <td>57361</td>\n",
       "    </tr>\n",
       "    <tr>\n",
       "      <th>13</th>\n",
       "      <td>disable_communication</td>\n",
       "      <td>57362</td>\n",
       "    </tr>\n",
       "    <tr>\n",
       "      <th>2</th>\n",
       "      <td>category</td>\n",
       "      <td>57362</td>\n",
       "    </tr>\n",
       "    <tr>\n",
       "      <th>4</th>\n",
       "      <td>country</td>\n",
       "      <td>57362</td>\n",
       "    </tr>\n",
       "    <tr>\n",
       "      <th>5</th>\n",
       "      <td>country_displayable_name</td>\n",
       "      <td>57362</td>\n",
       "    </tr>\n",
       "    <tr>\n",
       "      <th>6</th>\n",
       "      <td>created_at</td>\n",
       "      <td>57362</td>\n",
       "    </tr>\n",
       "    <tr>\n",
       "      <th>29</th>\n",
       "      <td>slug</td>\n",
       "      <td>57362</td>\n",
       "    </tr>\n",
       "    <tr>\n",
       "      <th>27</th>\n",
       "      <td>prelaunch_activated</td>\n",
       "      <td>57362</td>\n",
       "    </tr>\n",
       "    <tr>\n",
       "      <th>19</th>\n",
       "      <td>is_liked</td>\n",
       "      <td>57362</td>\n",
       "    </tr>\n",
       "    <tr>\n",
       "      <th>16</th>\n",
       "      <td>is_disliked</td>\n",
       "      <td>57362</td>\n",
       "    </tr>\n",
       "    <tr>\n",
       "      <th>10</th>\n",
       "      <td>currency_trailing_code</td>\n",
       "      <td>57362</td>\n",
       "    </tr>\n",
       "    <tr>\n",
       "      <th>9</th>\n",
       "      <td>currency_symbol</td>\n",
       "      <td>57362</td>\n",
       "    </tr>\n",
       "    <tr>\n",
       "      <th>8</th>\n",
       "      <td>currency</td>\n",
       "      <td>57362</td>\n",
       "    </tr>\n",
       "    <tr>\n",
       "      <th>32</th>\n",
       "      <td>staff_pick</td>\n",
       "      <td>57362</td>\n",
       "    </tr>\n",
       "    <tr>\n",
       "      <th>36</th>\n",
       "      <td>urls</td>\n",
       "      <td>57362</td>\n",
       "    </tr>\n",
       "  </tbody>\n",
       "</table>\n",
       "</div>"
      ],
      "text/plain": [
       "                       id_feature_pair  duplication_count\n",
       "7                              creator                 14\n",
       "30                          source_url               1747\n",
       "22                            location              43834\n",
       "14                             fx_rate              48054\n",
       "3             converted_pledged_amount              56379\n",
       "37                   usd_exchange_rate              56439\n",
       "40                               video              56455\n",
       "38                         usd_pledged              56946\n",
       "26                             pledged              56960\n",
       "24                      percent_funded              56960\n",
       "0                        backers_count              56983\n",
       "39                            usd_type              57170\n",
       "11                    current_currency              57182\n",
       "35                     static_usd_rate              57347\n",
       "20                        is_starrable              57351\n",
       "33                               state              57356\n",
       "34                    state_changed_at              57356\n",
       "31                           spotlight              57358\n",
       "17  is_in_post_campaign_pledging_phase              57358\n",
       "23                                name              57359\n",
       "1                                blurb              57359\n",
       "25                               photo              57360\n",
       "15                                goal              57360\n",
       "28                             profile              57360\n",
       "21                         launched_at              57361\n",
       "12                            deadline              57361\n",
       "18                         is_launched              57361\n",
       "13               disable_communication              57362\n",
       "2                             category              57362\n",
       "4                              country              57362\n",
       "5             country_displayable_name              57362\n",
       "6                           created_at              57362\n",
       "29                                slug              57362\n",
       "27                 prelaunch_activated              57362\n",
       "19                            is_liked              57362\n",
       "16                         is_disliked              57362\n",
       "10              currency_trailing_code              57362\n",
       "9                      currency_symbol              57362\n",
       "8                             currency              57362\n",
       "32                          staff_pick              57362\n",
       "36                                urls              57362"
      ]
     },
     "metadata": {},
     "output_type": "display_data"
    }
   ],
   "source": [
    "id_column_pair_duplication = []\n",
    "for column in kickstarter.columns:\n",
    "    if column != 'id':\n",
    "        duplication_count = kickstarter[['id', column]].duplicated().sum()\n",
    "        id_column_pair_duplication.append({\n",
    "            'id_feature_pair': column,\n",
    "            'duplication_count': duplication_count\n",
    "        })\n",
    "id_column_pair_duplication = pd.DataFrame(id_column_pair_duplication)\n",
    "display(id_column_pair_duplication.sort_values(by = 'duplication_count'))"
   ]
  },
  {
   "cell_type": "markdown",
   "id": "b540961a",
   "metadata": {},
   "source": [
    "Overwhelmingly, it seems to be the fault of the `creator` feature.\n",
    "- At some time during a campaign's lifetime, the creator might be actively changing their information, their username, profile picture, whether they are verified, etc.\n",
    "- The minute changes were then counted as separate in the scrape.\n",
    "\n",
    "Unfortunately, this does not narrow down how best to choose amongst the duplicate `id` rows.\n",
    "- Within `creator` there is no timestamp information for when this feature was changed.\n",
    "\n",
    "Trying to narrow down how best to choose amongst the other features also has varying issues:\n",
    "- Most features don't have recency built in. For example: though `location` with `id` has substatially lower duplicates, we cannot differentiate which to keep based on location, since we do not know the true final location.\n",
    "- Most features will not eliminate many duplicates. For example: picking by most backers seems like a reasonable judgement, but this will maximally only eliminate a couple hundred duplicates.\n",
    "\n",
    "For these reasons, we will make the following judgement calls to address duplication:\n",
    "1. Eliminate true duplicates (easily safe)\n",
    "2. Narrow down duplicates based on most backers (will eliminate a couple hundred)\n",
    "3. Drop the rest of the duplicates by `id`\n",
    "\n",
    "The final drop can be reasoned with the following - because the duplicates are already so similar in the most important factors beside creator, keeping duplicates at random with a final drop is as reasonable as we can afford."
   ]
  },
  {
   "cell_type": "code",
   "execution_count": 7,
   "id": "d9aa7e4f",
   "metadata": {},
   "outputs": [
    {
     "name": "stdout",
     "output_type": "stream",
     "text": [
      "Number of rows before deduplication: 262892\n",
      "Number of rows after applying deduplication steps: 205530\n"
     ]
    }
   ],
   "source": [
    "def apply_deduplication_steps(kickstarter) -> pd.DataFrame:\n",
    "    kick_nodup = kickstarter.copy()\n",
    "    print(f\"Number of rows before deduplication: {kick_nodup.__len__()}\")\n",
    "    # Eliminate true duplicates\n",
    "    kick_nodup = kick_nodup.drop_duplicates()\n",
    "\n",
    "    # Narrow down by most backers (built in recency)\n",
    "    max_per_id = kick_nodup.groupby(\"id\")[\"backers_count\"].transform(\"max\") # Group rows by id, get backers_count\n",
    "                                                                            # transform(\"max\") gives us a series 1:1 with original except filling each row with the group max\n",
    "    kick_nodup = kick_nodup[kick_nodup[\"backers_count\"] == max_per_id]\n",
    "\n",
    "    # Drop the rest of the duplicates by `id`\n",
    "    kick_nodup = kick_nodup.drop_duplicates(subset=['id']).reset_index()\n",
    "    print(f\"Number of rows after applying deduplication steps: {kick_nodup.__len__()}\")\n",
    "    \n",
    "    return kick_nodup\n",
    "kick_nodup = apply_deduplication_steps(kickstarter)"
   ]
  },
  {
   "cell_type": "markdown",
   "id": "5d4abbaa",
   "metadata": {},
   "source": [
    "#### Missingness Analysis\n",
    "\n",
    "First examining the missingness of the set after deduplication"
   ]
  },
  {
   "cell_type": "code",
   "execution_count": 8,
   "id": "62035607",
   "metadata": {},
   "outputs": [
    {
     "name": "stdout",
     "output_type": "stream",
     "text": [
      "PERCENTAGE MISSING\n",
      "blurb                                  0.018489\n",
      "usd_type                               0.030652\n",
      "location                               0.121637\n",
      "converted_pledged_amount               3.818421\n",
      "usd_pledged                            3.818421\n",
      "usd_exchange_rate                      3.818421\n",
      "video                                 35.736389\n",
      "is_in_post_campaign_pledging_phase    73.960006\n",
      "dtype: float64\n"
     ]
    },
    {
     "data": {
      "image/png": "[encoded data removed]",
      "text/plain": [
       "<Figure size 1000x300 with 1 Axes>"
      ]
     },
     "metadata": {},
     "output_type": "display_data"
    }
   ],
   "source": [
    "nulls = kick_nodup.isnull().sum(axis = 0)\n",
    "nulls = nulls[nulls > 0].sort_values(ascending=True) # Filtering for columns that actually have at least 1 missing value\n",
    "\n",
    "print(\"PERCENTAGE MISSING\")\n",
    "print(nulls / kick_nodup.__len__() * 100)\n",
    "\n",
    "mask = kick_nodup.isnull()\n",
    "mask = mask[nulls.index]\n",
    "mat = mask.T\n",
    "\n",
    "plt.figure(figsize = (10, 3))\n",
    "ax = sns.heatmap(\n",
    "    mat.astype(int),\n",
    "    cbar = False,\n",
    "    linewidths = 0,\n",
    "    xticklabels = False\n",
    ")\n",
    "ax.set_xlabel(\"index\")\n",
    "ax.set_title(\"Missingness heatmap\")\n",
    "plt.tight_layout()\n",
    "plt.show()"
   ]
  },
  {
   "cell_type": "code",
   "execution_count": 9,
   "id": "ba2fb9ba",
   "metadata": {},
   "outputs": [
    {
     "data": {
      "text/plain": [
       "currency\n",
       "AUD    0.710124\n",
       "CAD    0.761515\n",
       "CHF    1.091357\n",
       "DKK    0.150593\n",
       "EUR    1.114854\n",
       "GBP    1.345056\n",
       "HKD    0.128127\n",
       "JPY    0.007312\n",
       "MXN    0.051901\n",
       "NOK    0.114292\n",
       "NZD    0.667173\n",
       "PLN    0.257319\n",
       "SEK    0.109056\n",
       "SGD    0.744796\n",
       "USD    1.000000\n",
       "Name: usd_exchange_rate, dtype: float64"
      ]
     },
     "execution_count": 9,
     "metadata": {},
     "output_type": "execute_result"
    }
   ],
   "source": [
    "kickstarter.groupby(by = 'currency')['usd_exchange_rate'].mean()"
   ]
  },
  {
   "cell_type": "markdown",
   "id": "7ff765dc",
   "metadata": {},
   "source": [
    "We have just only a few missing values for `blurb`, `usd_type` and `location`\n",
    "- All three only have a couple hundredths of a percent missing.\n",
    "\n",
    "We have slighly higher missingness in `converted_pledged_amount`, `usd_pledged` and `usd_exchange_rate`:\n",
    "- All three have exactly the same missingness, at 6.57% missingness\n",
    "- Furthermore, they seem to be conjointly missing, meaning if one is missing, the other two are also always missing\n",
    "\n",
    "Lastly we have highest missinging in `video` and `is_in_post_campaign_pledging_phase`:\n",
    "- `video` having 27.93% missingness and `is_in_post_campaign_pledging_phase` having 57.82% missingness.\n",
    "\n",
    "---\n",
    "\n",
    "**Examining features closer to inform imputation:**\n",
    "\n",
    "For `blurb`:\n",
    "- Since `blurb` is unique to each particular campaign, it is inappropriate to impute this with anything we can assume from other data points\n",
    "    - We will assume the blurb will be similar in content to the title, and impute by project name."
   ]
  },
  {
   "cell_type": "code",
   "execution_count": 39,
   "id": "8b4baa78",
   "metadata": {},
   "outputs": [],
   "source": [
    "def impute_blurb(df: pd.DataFrame) -> pd.DataFrame:\n",
    "    df = df.copy()\n",
    "    df['blurb'] = df['blurb'].fillna(df['name'])\n",
    "    return df"
   ]
  },
  {
   "cell_type": "markdown",
   "id": "5679795b",
   "metadata": {},
   "source": [
    "For `usd_type`:"
   ]
  },
  {
   "cell_type": "code",
   "execution_count": 10,
   "id": "ae9ccc15",
   "metadata": {},
   "outputs": [
    {
     "name": "stdout",
     "output_type": "stream",
     "text": [
      "Percentage of 'usd_type' that is domestic: 99.9269662066552%\n"
     ]
    }
   ],
   "source": [
    "# Examining usd_type\n",
    "usd_type_mode = kickstarter[\"usd_type\"].mode()[0]\n",
    "print(\n",
    "    f\"Percentage of 'usd_type' that is {usd_type_mode}: {(\n",
    "        (kickstarter[\"usd_type\"] == usd_type_mode).sum()\n",
    "        / kickstarter.__len__()\n",
    "        * 100\n",
    "    )}%\"\n",
    ")"
   ]
  },
  {
   "cell_type": "markdown",
   "id": "f85126fc",
   "metadata": {},
   "source": [
    "Reasonable to impute by mode, given that the dataset is overwhelming one mode."
   ]
  },
  {
   "cell_type": "code",
   "execution_count": 40,
   "id": "9063fcb4",
   "metadata": {},
   "outputs": [],
   "source": [
    "def impute_usd_type(df: pd.DataFrame) -> pd.DataFrame:\n",
    "    df = df.copy()\n",
    "    df[\"usd_type\"] = df[\"usd_type\"].fillna(df[\"usd_type\"].mode()[0])\n",
    "    return df"
   ]
  },
  {
   "cell_type": "markdown",
   "id": "5afd73f5",
   "metadata": {},
   "source": [
    "---\n",
    "\n",
    "For `location`"
   ]
  },
  {
   "cell_type": "code",
   "execution_count": 11,
   "id": "3f0e4cd0",
   "metadata": {},
   "outputs": [
    {
     "data": {
      "text/plain": [
       "{'id': 44418,\n",
       " 'name': 'London',\n",
       " 'slug': 'london-gb',\n",
       " 'short_name': 'London, UK',\n",
       " 'displayable_name': 'London, UK',\n",
       " 'localized_name': 'London',\n",
       " 'country': 'GB',\n",
       " 'state': 'England',\n",
       " 'type': 'Town',\n",
       " 'is_root': False,\n",
       " 'expanded_country': 'United Kingdom',\n",
       " 'urls': {'web': {'discover': 'https://www.kickstarter.com/discover/places/london-gb',\n",
       "   'location': 'https://www.kickstarter.com/locations/london-gb'},\n",
       "  'api': {'nearby_projects': 'https://api.kickstarter.com/v1/discover?signature=1757604986.29d3e3985af91871c322a99e8bdbb47f0d7ec263&woe_id=44418'}}}"
      ]
     },
     "execution_count": 11,
     "metadata": {},
     "output_type": "execute_result"
    }
   ],
   "source": [
    "# Examining location\n",
    "def parse_json_feature(raw):\n",
    "    return json.loads(raw)\n",
    "\n",
    "parse_json_feature(kickstarter['location'][0])"
   ]
  },
  {
   "cell_type": "markdown",
   "id": "ddab597a",
   "metadata": {},
   "source": [
    "We can see several potentially useful data fields within `location`. Namely:\n",
    "- `name`, which seems to be city name.\n",
    "- `state`, which seems to be state name.\n",
    "- `type`, which seems to indicate the type of location."
   ]
  },
  {
   "cell_type": "code",
   "execution_count": 12,
   "id": "317d8bdc",
   "metadata": {},
   "outputs": [
    {
     "data": {
      "text/html": [
       "<div>\n",
       "<style scoped>\n",
       "    .dataframe tbody tr th:only-of-type {\n",
       "        vertical-align: middle;\n",
       "    }\n",
       "\n",
       "    .dataframe tbody tr th {\n",
       "        vertical-align: top;\n",
       "    }\n",
       "\n",
       "    .dataframe thead th {\n",
       "        text-align: right;\n",
       "    }\n",
       "</style>\n",
       "<table border=\"1\" class=\"dataframe\">\n",
       "  <thead>\n",
       "    <tr style=\"text-align: right;\">\n",
       "      <th></th>\n",
       "      <th>loc_name</th>\n",
       "      <th>loc_state</th>\n",
       "      <th>loc_type</th>\n",
       "    </tr>\n",
       "  </thead>\n",
       "  <tbody>\n",
       "    <tr>\n",
       "      <th>count</th>\n",
       "      <td>262495</td>\n",
       "      <td>262423</td>\n",
       "      <td>262495</td>\n",
       "    </tr>\n",
       "    <tr>\n",
       "      <th>unique</th>\n",
       "      <td>14130</td>\n",
       "      <td>1221</td>\n",
       "      <td>9</td>\n",
       "    </tr>\n",
       "    <tr>\n",
       "      <th>top</th>\n",
       "      <td>London</td>\n",
       "      <td>CA</td>\n",
       "      <td>Town</td>\n",
       "    </tr>\n",
       "    <tr>\n",
       "      <th>freq</th>\n",
       "      <td>11216</td>\n",
       "      <td>28529</td>\n",
       "      <td>244120</td>\n",
       "    </tr>\n",
       "  </tbody>\n",
       "</table>\n",
       "</div>"
      ],
      "text/plain": [
       "       loc_name loc_state loc_type\n",
       "count    262495    262423   262495\n",
       "unique    14130      1221        9\n",
       "top      London        CA     Town\n",
       "freq      11216     28529   244120"
      ]
     },
     "execution_count": 12,
     "metadata": {},
     "output_type": "execute_result"
    }
   ],
   "source": [
    "# Examining distributions for location\n",
    "\n",
    "locations_not_null = kickstarter[kickstarter['location'].notnull()]['location'].apply(parse_json_feature)\n",
    "location_cols = locations_not_null.apply(\n",
    "    lambda d: pd.Series({\n",
    "        'loc_name': d.get('name'),\n",
    "        'loc_state': d.get('state'),\n",
    "        'loc_type': d.get('type'),\n",
    "    })\n",
    ")\n",
    "location_cols.describe()\n"
   ]
  },
  {
   "cell_type": "markdown",
   "id": "602680bd",
   "metadata": {},
   "source": [
    "Location information seems to follow a heavy right skewed distribution. For type in particular, town seems to be overwhelmingly common. For state and name, the skew is not sharp enough to assume any particularly overwhelmingly common singular value.\n",
    "- For all three: we cannot impute by most common and expect a probable correctness of our fit.\n",
    "\n",
    "We will impute by mode of the missing value grouped by country. So, if a city name is missing from the US, for example, the state, city and town would be imputed as CA, Los Angeles, Town.\n",
    "\n",
    "Lastly, we will discard `location` column, as all relevant information has already been extracted from it."
   ]
  },
  {
   "cell_type": "code",
   "execution_count": null,
   "id": "36bfc18d",
   "metadata": {},
   "outputs": [],
   "source": [
    "# \"Impute\" + engineering. We are engineering new features then imputing those features\n",
    "def impute_location(df: pd.DataFrame) -> pd.DataFrame:\n",
    "    def parse_json_feature(raw):\n",
    "        return json.loads(raw)\n",
    "    locations_not_null = df[df['location'].notnull()]['location'].apply(parse_json_feature)\n",
    "    location_cols = locations_not_null.apply(\n",
    "        lambda d: pd.Series({\n",
    "            'loc_name': d.get('name'),\n",
    "            'loc_state': d.get('state'),\n",
    "            'loc_type': d.get('type'),\n",
    "        })\n",
    "    )\n",
    "\n",
    "    df = df.join(location_cols, how='left')\n",
    "\n",
    "    mode_loc_name_by_country = (\n",
    "        df.loc[df[\"loc_name\"].notnull()]\n",
    "        .groupby(\"country\")[\"loc_name\"]\n",
    "        .agg(lambda s: s.value_counts().idxmax())\n",
    "    )\n",
    "    df[\"loc_name\"] = df[\"loc_name\"].fillna(df[\"country\"].map(mode_loc_name_by_country))\n",
    "\n",
    "    mode_loc_state_by_country = (\n",
    "        df.loc[df[\"loc_state\"].notnull()]\n",
    "        .groupby(\"country\")[\"loc_state\"]\n",
    "        .agg(lambda s: s.value_counts().idxmax())\n",
    "    )\n",
    "    df[\"loc_state\"] = df[\"loc_state\"].fillna(df[\"country\"].map(mode_loc_state_by_country))\n",
    "\n",
    "    mode_loc_type_by_country = (\n",
    "        df.loc[df[\"loc_type\"].notnull()]\n",
    "        .groupby(\"country\")[\"loc_type\"]\n",
    "        .agg(lambda s: s.value_counts().idxmax())\n",
    "    )\n",
    "    df[\"loc_type\"] = df[\"loc_type\"].fillna(df[\"country\"].map(mode_loc_type_by_country))\n",
    "\n",
    "    df = df.drop(columns = ['location'])\n",
    "    return df"
   ]
  },
  {
   "cell_type": "markdown",
   "id": "dff38678",
   "metadata": {},
   "source": [
    "---\n",
    "\n",
    "For `usd_pledged`, `converted_pledged_amount` and `usd_exchange_rate`\n",
    "\n",
    "- $\\text{usd\\_pledged} = \\text{pledged} \\times \\text{static\\_usd\\_rate}$. \n",
    "    - Since neither of those are missing when `usd_pledged` is missing, we will simply fill in the missing portion by formula.\n",
    "- $\\text{converted\\_pledged\\_amount} = \\lfloor \\text{pledged} \\times \\text{usd\\_exchange\\_rate} \\rfloor$.\n",
    "    - We will use the non missing `currency` featuer to impute missing `usd_exchange_rate`, then use that to impute the missing `converted_pledged_amount` by formula.\n",
    "    - Because `usd_exchange_rate` for each currency changes for each observation (the exchange rate changes over time), we will impute this based on the mean of the currency's exchange rate."
   ]
  },
  {
   "cell_type": "code",
   "execution_count": 57,
   "id": "4fbdcc61",
   "metadata": {},
   "outputs": [
    {
     "data": {
      "text/plain": [
       "backers_count                            0\n",
       "blurb                                    0\n",
       "category                                 0\n",
       "converted_pledged_amount               181\n",
       "country                                  0\n",
       "country_displayable_name                 0\n",
       "created_at                               0\n",
       "creator                                  0\n",
       "currency                                 0\n",
       "currency_symbol                          0\n",
       "currency_trailing_code                   0\n",
       "current_currency                         0\n",
       "deadline                                 0\n",
       "disable_communication                    0\n",
       "fx_rate                                  0\n",
       "goal                                     0\n",
       "id                                       0\n",
       "is_disliked                              0\n",
       "is_in_post_campaign_pledging_phase    2032\n",
       "is_launched                              0\n",
       "is_liked                                 0\n",
       "is_starrable                             0\n",
       "launched_at                              0\n",
       "location                                 3\n",
       "name                                     0\n",
       "percent_funded                           0\n",
       "photo                                    0\n",
       "pledged                                  0\n",
       "prelaunch_activated                      0\n",
       "profile                                  0\n",
       "slug                                     0\n",
       "source_url                               0\n",
       "spotlight                                0\n",
       "staff_pick                               0\n",
       "state                                    0\n",
       "state_changed_at                         0\n",
       "static_usd_rate                          0\n",
       "urls                                     0\n",
       "usd_exchange_rate                      181\n",
       "usd_pledged                              0\n",
       "usd_type                                 0\n",
       "video                                 1207\n",
       "dtype: int64"
      ]
     },
     "execution_count": 57,
     "metadata": {},
     "output_type": "execute_result"
    }
   ],
   "source": [
    "# kickstarter_toy.isnull().sum()\n",
    "kickstarter_toy['usd_pledged'] = kickstarter_toy['usd_pledged'].fillna(kickstarter_toy['pledged'] * kickstarter_toy['static_usd_rate'])\n",
    "\n",
    "    # Impute usd_exchange_rate\n",
    "mean_usd_exchange_rate_by_currency = kickstarter_toy.groupby(by = 'currency')['usd_exchange_rate'].mean()\n",
    "kickstarter_toy['usd_exchange_rate'].fillna(kickstarter_toy['currency'].map(mean_usd_exchange_rate_by_currency))\n",
    "\n",
    "    # Impute converted_pledged_amount\n",
    "kickstarter_toy['converted_pledged_amount'] = kickstarter_toy['converted_pledged_amount'].fillna(kickstarter_toy['pledged'] * kickstarter_toy['usd_exchange_rate'])\n",
    "kickstarter_toy.isnull().sum()\n"
   ]
  },
  {
   "cell_type": "code",
   "execution_count": 59,
   "id": "5c955fb7",
   "metadata": {},
   "outputs": [],
   "source": [
    "def impute_money_features(df: pd.DataFrame) -> pd.DataFrame:\n",
    "    # Impute usd_pledged\n",
    "    df['usd_pledged'] = df['usd_pledged'].fillna(df['pledged'] * df['static_usd_rate'])\n",
    "\n",
    "    # Impute usd_exchange_rate\n",
    "    mean_usd_exchange_rate_by_currency = df.groupby(by = 'currency')['usd_exchange_rate'].mean()\n",
    "    df['usd_exchange_rate'] = df['usd_exchange_rate'].fillna(df['currency'].map(mean_usd_exchange_rate_by_currency))\n",
    "\n",
    "    # Impute converted_pledged_amount\n",
    "    df['converted_pledged_amount'] = df['converted_pledged_amount'].fillna(df['pledged'] * df['usd_exchange_rate'])\n",
    "    return df"
   ]
  },
  {
   "cell_type": "markdown",
   "id": "1440765a",
   "metadata": {},
   "source": [
    "---\n",
    "\n",
    "For `video`\n",
    "- No imputation, instead converting `video` into an indicator variable later during feature engineering. We don't intend to deal with video data, but since we have sufficient missingness, we can use the missingness itself as a predictor."
   ]
  },
  {
   "cell_type": "code",
   "execution_count": 45,
   "id": "5cf98c26",
   "metadata": {},
   "outputs": [],
   "source": [
    "# This is closer to transformation than imputation, but for our purpose, it is transformation in service to imputate\n",
    "def impute_video(df: pd.DataFrame) -> pd.DataFrame:\n",
    "    df['has_video'] = df['video'].notnull()\n",
    "    df = df.drop(columns = ['video'])\n",
    "    return df"
   ]
  },
  {
   "cell_type": "markdown",
   "id": "c356eee4",
   "metadata": {},
   "source": [
    "---\n",
    "For `is_in_post_campaign_pledging_phase`\n",
    "- An indicator variable for whether a project is already successful and currently fulfilling pledges. This feature has high missingness at nearly 74% missing.\n",
    "    - Both for data leakage prevention and for the fact of high missingness, the column is simply dropped."
   ]
  },
  {
   "cell_type": "code",
   "execution_count": 47,
   "id": "25a935c7",
   "metadata": {},
   "outputs": [],
   "source": [
    "def impute_is_in_post_campaign_pledging_phase(df: pd.DataFrame) -> pd.DataFrame:\n",
    "    df = df.drop(columns = ['is_in_post_campaign_pledging_phase'])\n",
    "    return df"
   ]
  },
  {
   "cell_type": "markdown",
   "id": "01815b67",
   "metadata": {},
   "source": [
    "---\n",
    "\n",
    "Applying missingness strategies:"
   ]
  },
  {
   "cell_type": "code",
   "execution_count": 100,
   "id": "0e550a4b",
   "metadata": {},
   "outputs": [],
   "source": [
    "def perform_missingness_handling(df: pd.DataFrame) -> pd.DataFrame:\n",
    "    df = impute_blurb(df)\n",
    "    df = impute_usd_type(df)\n",
    "    df = impute_location(df)\n",
    "    df = impute_money_features(df)\n",
    "    df = impute_video(df)\n",
    "    df = impute_is_in_post_campaign_pledging_phase(df)\n",
    "    return df\n",
    "kick_clean = perform_missingness_handling(kickstarter)"
   ]
  },
  {
   "cell_type": "code",
   "execution_count": 62,
   "id": "e93f2b1f",
   "metadata": {},
   "outputs": [
    {
     "data": {
      "text/plain": [
       "backers_count               0\n",
       "blurb                       0\n",
       "category                    0\n",
       "converted_pledged_amount    0\n",
       "country                     0\n",
       "country_displayable_name    0\n",
       "created_at                  0\n",
       "creator                     0\n",
       "currency                    0\n",
       "currency_symbol             0\n",
       "currency_trailing_code      0\n",
       "current_currency            0\n",
       "deadline                    0\n",
       "disable_communication       0\n",
       "fx_rate                     0\n",
       "goal                        0\n",
       "id                          0\n",
       "is_disliked                 0\n",
       "is_launched                 0\n",
       "is_liked                    0\n",
       "is_starrable                0\n",
       "launched_at                 0\n",
       "name                        0\n",
       "percent_funded              0\n",
       "photo                       0\n",
       "pledged                     0\n",
       "prelaunch_activated         0\n",
       "profile                     0\n",
       "slug                        0\n",
       "source_url                  0\n",
       "spotlight                   0\n",
       "staff_pick                  0\n",
       "state                       0\n",
       "state_changed_at            0\n",
       "static_usd_rate             0\n",
       "urls                        0\n",
       "usd_exchange_rate           0\n",
       "usd_pledged                 0\n",
       "usd_type                    0\n",
       "loc_name                    0\n",
       "loc_state                   0\n",
       "loc_type                    0\n",
       "has_video                   0\n",
       "dtype: int64"
      ]
     },
     "execution_count": 62,
     "metadata": {},
     "output_type": "execute_result"
    }
   ],
   "source": [
    "kick_clean.isnull().sum()"
   ]
  },
  {
   "cell_type": "markdown",
   "id": "c2ee54f3",
   "metadata": {},
   "source": [
    "### Data Filtering, Leakage Prevention, and Feature Relevance Assessment"
   ]
  },
  {
   "cell_type": "markdown",
   "id": "96e1be8c",
   "metadata": {},
   "source": [
    "**Filtering for final outcome**\n",
    "\n",
    "Because we are interested in supervised modeling, we will only keep projects with finalized outcomes. Meaning projects either **successful**, or **failed** final `state`."
   ]
  },
  {
   "cell_type": "code",
   "execution_count": 63,
   "id": "e1e64b24",
   "metadata": {},
   "outputs": [],
   "source": [
    "# Keep only final outcome states\n",
    "def keep_only_final_outcome_states(df: pd.DataFrame):\n",
    "    df = df[df['state'].isin(['successful', 'failed'])].copy()\n",
    "    return df"
   ]
  },
  {
   "cell_type": "markdown",
   "id": "615cee7f",
   "metadata": {},
   "source": [
    "**Leakage Prevention**\n",
    "\n",
    "Data leakage features are those that contain information unavailable at the time of prediction (e.g., after campaign launch or after campaign ends).\n",
    "\n",
    "| Column                                               | Why it leaks                                              |\n",
    "| ---------------------------------------------------- | --------------------------------------------------------- |\n",
    "| `backers_count`                                      | Number of backers is directly correlated to the pledged amount.                        |\n",
    "| `pledged`, `usd_pledged`, `converted_pledged_amount` | Contain the actual outcome.                               |\n",
    "| `percent_funded`                                     | Directly derived from `pledged / goal`.                   |\n",
    "| `usd_exchange_rate`                                  | Calculated after pledges are received.                    |\n",
    "| `state_changed_at`                                   | Timestamp of final outcome.                               |\n",
    "| `spotlight`                                          | Spotlight is always true for successfully funded projects (all funded projects gain access to spotlighting tools).                       |\n",
    "| `is_in_post_campaign_pledging_phase`                 | Only exists post-outcome.                                 |"
   ]
  },
  {
   "cell_type": "code",
   "execution_count": 98,
   "id": "4c4cb9e4",
   "metadata": {},
   "outputs": [],
   "source": [
    "def drop_leakage_columns(df: pd.DataFrame) -> pd.DataFrame:\n",
    "    leakage_columns = [\n",
    "        \"backers_count\",\n",
    "        \"pledged\",\n",
    "        \"usd_pledged\",\n",
    "        \"converted_pledged_amount\",\n",
    "        \"percent_funded\",\n",
    "        \"usd_exchange_rate\",\n",
    "        \"state_changed_at\",\n",
    "        \"spotlight\",\n",
    "        # \"is_in_post_campaign_pledging_phase\",\n",
    "    ]\n",
    "\n",
    "    df = df.drop(columns=leakage_columns).copy()\n",
    "    return df"
   ]
  },
  {
   "cell_type": "markdown",
   "id": "819713f6",
   "metadata": {},
   "source": [
    "**Irrelevant or Redundant Features**\n",
    "\n",
    "Features that do not describe the campaign meaningfully or are purely metadata / UI-oriented.\n",
    "\n",
    "| Column                                                          | Reason                                                                              |\n",
    "| --------------------------------------------------------------- | ----------------------------------------------------------------------------------- |\n",
    "| `id`, `slug`, `source_url`, `urls`                              | Internal or web-identifiers.                                                        |\n",
    "| `currency_symbol`, `currency_trailing_code`, `current_currency` | Formatting/UI attributes.                                                           |\n",
    "| `is_liked`, `is_disliked`, `is_starrable`                       | Viewer-specific or static fields. These are all either false or true for this scrape.                                                |\n",
    "| `country_displayable_name`                                      | Redundant with `country`.                                                           |\n"
   ]
  },
  {
   "cell_type": "code",
   "execution_count": 65,
   "id": "5d4c344c",
   "metadata": {},
   "outputs": [],
   "source": [
    "def drop_irrelevant_columns(df: pd.DataFrame) -> pd.DataFrame:\n",
    "    irrelevant_columns = [\n",
    "        \"id\",\n",
    "        \"slug\",\n",
    "        \"source_url\",\n",
    "        \"urls\",\n",
    "        \"currency_symbol\",\n",
    "        \"currency_trailing_code\",\n",
    "        \"current_currency\",\n",
    "        \"is_liked\",\n",
    "        \"is_disliked\",\n",
    "        \"is_starrable\",\n",
    "        \"country_displayable_name\",\n",
    "    ]\n",
    "\n",
    "    df = df.drop(columns = irrelevant_columns).copy()\n",
    "    return df"
   ]
  },
  {
   "cell_type": "markdown",
   "id": "5d17f933",
   "metadata": {},
   "source": [
    "**Complex nested JSON feature relevance analysis**\n",
    "\n",
    "Many features are nested dictionaries of further features. Most of the nested dictionary contains information that may not be used, but further examination is necessary to determine exactly what information to retain. `photo`, `creator`, and `profile` in particular do not seem to hold relevant information, but further analysis is needed to be sure."
   ]
  },
  {
   "cell_type": "markdown",
   "id": "af842973",
   "metadata": {},
   "source": [
    "For `photo`\n",
    "- Our analysis will not directly deal with complex image data. This column has no direct missingness, but since the object is nested, we need to perform analysis on whether the object is truly not missing for all rows. This will inform whether an indicator variable should be considered, or the column should simply be dropped."
   ]
  },
  {
   "cell_type": "code",
   "execution_count": 66,
   "id": "3d87fef8",
   "metadata": {},
   "outputs": [
    {
     "name": "stdout",
     "output_type": "stream",
     "text": [
      "Number of missing videos = 0       Percentage: 0.00%\n",
      "Photo status:\n",
      "\tEvery campaign has a photo! Dropping photo\n"
     ]
    }
   ],
   "source": [
    "# Checking missingness of image (per scrape observation)\n",
    "num_photo_missing = kick_clean['photo'].isnull().sum()\n",
    "print(f\"Number of missing videos = {num_photo_missing} \\\n",
    "      Percentage: {num_photo_missing / kick_clean.__len__() * 100:.2f}%\")\n",
    "\n",
    "# Checking if every campaign has an image present in their photo json object\n",
    "photos = kick_clean[\"photo\"].apply(json.loads)\n",
    "some_missing_full_image = photos.apply(lambda x: pd.isnull(x.get(\"full\"))).any()\n",
    "print(\"Photo status:\")\n",
    "if some_missing_full_image:\n",
    "    print(\"\\tPhoto missing for some campaign(s)! Consider indicator variable\")\n",
    "else:\n",
    "    print(\"\\tEvery campaign has a photo! Consider dropping photo\")"
   ]
  },
  {
   "cell_type": "markdown",
   "id": "5043debf",
   "metadata": {},
   "source": [
    "Since every single campaign in our list has an image, an indicator variable would not be informative."
   ]
  },
  {
   "cell_type": "code",
   "execution_count": 67,
   "id": "17ce65b9",
   "metadata": {},
   "outputs": [],
   "source": [
    "def drop_photo(df: pd.DataFrame) -> pd.DataFrame:\n",
    "    df = df.drop(columns = ['photo']).copy()\n",
    "    return df"
   ]
  },
  {
   "cell_type": "markdown",
   "id": "fbb5d4e6",
   "metadata": {},
   "source": [
    "---\n",
    "\n",
    "For `creator`:\n",
    "- This variable is rather difficult to parse, since there are so many extra inner quotes present that are unescaped."
   ]
  },
  {
   "cell_type": "code",
   "execution_count": 95,
   "id": "602042f8",
   "metadata": {},
   "outputs": [
    {
     "name": "stdout",
     "output_type": "stream",
     "text": [
      "EXCEPTION:  {\"id\":860665384,\"name\":\"//DoloMcCombKimberlyLesikScottStafford\\\\\\\",\"slug\":\"cathedralcollective\",\"is_registered\":null,\"is_email_verified\":null,\"chosen_currency\":null,\"is_superbacker\":null,\"has_admin_message_badge\":false,\"ppo_has_action\":false,\"backing_action_count\":0,\"avatar\":{\"thumb\":\"https://i.kickstarter.com/assets/010/849/136/eb10895768e7303de07eeccbfad69581_original.png?anim=false&fit=cover&height=40&origin=ugc&q=92&v=1461716176&width=40&sig=751vXIb%2FFwhKjKv7vIvtx5bgS7HL5Pf%2B1gpiihWiyo0%3D\",\"small\":\"https://i.kickstarter.com/assets/010/849/136/eb10895768e7303de07eeccbfad69581_original.png?anim=false&fit=cover&height=80&origin=ugc&q=92&v=1461716176&width=80&sig=14iCZVvR3QuSni9vqP7dBpKcYE4rXZYVmTooPU6nk6M%3D\",\"medium\":\"https://i.kickstarter.com/assets/010/849/136/eb10895768e7303de07eeccbfad69581_original.png?anim=false&fit=cover&height=160&origin=ugc&q=92&v=1461716176&width=160&sig=JbMG%2BdjEr5aceHdY3d9hzdl08DcPvEifDZvbuy2fYy8%3D\"},\"urls\":{\"web\":{\"user\":\"https://www.kickstarter.com/profile/cathedralcollective\"},\"api\":{\"user\":\"https://api.kickstarter.com/v1/users/860665384?signature=1757648654.c36ae190c7be300e0e176d9485bc48d70ae39630\"}}}\n",
      "EXCEPTION:  {\"id\":860665384,\"name\":\"//DoloMcCombKimberlyLesikScottStafford\\\\\\\",\"slug\":\"cathedralcollective\",\"is_registered\":null,\"is_email_verified\":null,\"chosen_currency\":null,\"is_superbacker\":null,\"has_admin_message_badge\":false,\"ppo_has_action\":false,\"backing_action_count\":0,\"avatar\":{\"thumb\":\"https://i.kickstarter.com/assets/010/849/136/eb10895768e7303de07eeccbfad69581_original.png?anim=false&fit=cover&height=40&origin=ugc&q=92&v=1461716176&width=40&sig=751vXIb%2FFwhKjKv7vIvtx5bgS7HL5Pf%2B1gpiihWiyo0%3D\",\"small\":\"https://i.kickstarter.com/assets/010/849/136/eb10895768e7303de07eeccbfad69581_original.png?anim=false&fit=cover&height=80&origin=ugc&q=92&v=1461716176&width=80&sig=14iCZVvR3QuSni9vqP7dBpKcYE4rXZYVmTooPU6nk6M%3D\",\"medium\":\"https://i.kickstarter.com/assets/010/849/136/eb10895768e7303de07eeccbfad69581_original.png?anim=false&fit=cover&height=160&origin=ugc&q=92&v=1461716176&width=160&sig=JbMG%2BdjEr5aceHdY3d9hzdl08DcPvEifDZvbuy2fYy8%3D\"},\"urls\":{\"web\":{\"user\":\"https://www.kickstarter.com/profile/cathedralcollective\"},\"api\":{\"user\":\"https://api.kickstarter.com/v1/users/860665384?signature=1757648202.6ec450b387df326a9f5e9aad60c9e91b483f38d8\"}}}\n",
      "Total not null:  0\n"
     ]
    }
   ],
   "source": [
    "def parse_kickstarter_creator(raw):\n",
    "    raw = raw.replace('\\t', '\\\\t').replace('\\n', '\\\\n').replace('\\r', '\\\\r')\n",
    "    # fix name: remove extra inner quotes in the name value\n",
    "    key_start = '\"name\":\"'\n",
    "    i = raw.find(key_start)\n",
    "    if i != -1:\n",
    "        name_start = i + len(key_start)\n",
    "        j = raw.find('\",\"', name_start)  # end of the name string\n",
    "        if j != -1:\n",
    "            name_val = raw[name_start:j]\n",
    "            name_fixed = name_val.replace('\"', '')  # strip stray inner quotes\n",
    "            raw = raw[:name_start] + name_fixed + raw[j:]\n",
    "\n",
    "    # I can catch most of the problems with the simple above fix, but there are a few that are\n",
    "    # simply not worth the trouble to fully catch\n",
    "    try:\n",
    "        return json.loads(raw)\n",
    "    except Exception:\n",
    "        print(\"EXCEPTION: \", raw)\n",
    "        return np.nan\n",
    "\n",
    "creators = kick_clean['creator'].apply(parse_kickstarter_creator)\n",
    "\n",
    "total_not_null = 0\n",
    "for creator in creators:\n",
    "    if type(creator) is float:\n",
    "        continue\n",
    "    if pd.notnull(creator['is_email_verified']) or pd.notnull(creator['is_registered']) or pd.notnull(creator['is_superbacker']):\n",
    "        total_not_null += 1\n",
    "print(\"Total not null: \", total_not_null)"
   ]
  },
  {
   "cell_type": "markdown",
   "id": "f6be5268",
   "metadata": {},
   "source": [
    "- This variable contains some various information like name, avatar, whether they are registered or email verified, etc.\n",
    "- Unfortunately, it seems that boolean information, like whether they are registered or not, is fully missing from this variable, so there is nothing useful for us to extract.\n",
    "- We may consider further analysis with this variable later (for example, analysis on whether creator's have more success if they have had experience with other kickstarter projects), but for now we deem it irrelevant."
   ]
  },
  {
   "cell_type": "code",
   "execution_count": 96,
   "id": "71cbf397",
   "metadata": {},
   "outputs": [],
   "source": [
    "def drop_creator(df: pd.DataFrame) -> pd.DataFrame:\n",
    "    df = df.drop(columns = ['creator']).copy()\n",
    "    return df"
   ]
  },
  {
   "cell_type": "markdown",
   "id": "2959174d",
   "metadata": {},
   "source": [
    "---\n",
    "\n",
    "For `profile`"
   ]
  },
  {
   "cell_type": "code",
   "execution_count": 93,
   "id": "db02a914",
   "metadata": {},
   "outputs": [
    {
     "data": {
      "text/plain": [
       "array([{'id': 963338, 'project_id': 963338, 'state': 'inactive', 'state_changed_at': 1425915853, 'name': None, 'blurb': None, 'background_color': None, 'text_color': None, 'link_background_color': None, 'link_text_color': None, 'link_text': None, 'link_url': None, 'show_feature_image': False, 'background_image_opacity': 0.8, 'should_show_feature_image_section': True, 'feature_image_attributes': {'image_urls': {'default': 'https://i.kickstarter.com/assets/011/680/204/7108ed19384fbb551aaf154e0f192991_original.png?anim=false&fit=cover&gravity=auto&height=873&origin=ugc&q=92&v=1463686697&width=1552&sig=nt4CfhTUisWv9obcTWEw%2BU6W9t5ix%2FOYxI4XgLsH%2BsQ%3D', 'baseball_card': 'https://i.kickstarter.com/assets/011/680/204/7108ed19384fbb551aaf154e0f192991_original.png?anim=false&fit=cover&gravity=auto&height=315&origin=ugc&q=92&v=1463686697&width=560&sig=d7eDV6eVyfalmDkbUNGO7zm7FKkLCEDlsru8T0hCEv4%3D'}}},\n",
       "       {'id': 1557981, 'project_id': 1557981, 'state': 'inactive', 'state_changed_at': 1425915885, 'name': None, 'blurb': None, 'background_color': None, 'text_color': None, 'link_background_color': None, 'link_text_color': None, 'link_text': None, 'link_url': None, 'show_feature_image': False, 'background_image_opacity': 0.8, 'should_show_feature_image_section': True, 'feature_image_attributes': {'image_urls': {'default': 'https://i.kickstarter.com/assets/011/965/439/b1a865c83e89afa1cf8ed5d3970edf58_original.jpg?anim=false&fit=cover&gravity=auto&height=873&origin=ugc&q=92&v=1463719886&width=1552&sig=NzwsLoLmRU%2FzkFnnMDt7jhAWOoPN6OkqTHRuse2Oc4s%3D', 'baseball_card': 'https://i.kickstarter.com/assets/011/965/439/b1a865c83e89afa1cf8ed5d3970edf58_original.jpg?anim=false&fit=cover&gravity=auto&height=315&origin=ugc&q=92&v=1463719886&width=560&sig=uTGJdVOrcQx5our4TzcuEmSiqV4nNBgs0HKROTArHas%3D'}}},\n",
       "       {'id': 1565822, 'project_id': 1565822, 'state': 'inactive', 'state_changed_at': 1425915886, 'name': None, 'blurb': None, 'background_color': None, 'text_color': None, 'link_background_color': None, 'link_text_color': None, 'link_text': None, 'link_url': None, 'show_feature_image': False, 'background_image_opacity': 0.8, 'should_show_feature_image_section': True, 'feature_image_attributes': {'image_urls': {'default': 'https://i.kickstarter.com/assets/011/968/928/1c24c5f4532e544b5d95cb75ae79ca84_original.png?anim=false&fit=cover&gravity=auto&height=873&origin=ugc&q=92&v=1463720179&width=1552&sig=kH%2B7yGHTmJ61%2BYcyX1eHaWSwmWylML7lvedYpBp52Pw%3D', 'baseball_card': 'https://i.kickstarter.com/assets/011/968/928/1c24c5f4532e544b5d95cb75ae79ca84_original.png?anim=false&fit=cover&gravity=auto&height=315&origin=ugc&q=92&v=1463720179&width=560&sig=mu7kwKEUyY81nKRQYBRO3Z%2FDluupWvQ6TKg4oF7wNRE%3D'}}},\n",
       "       {'id': 4824603, 'project_id': 4824603, 'state': 'inactive', 'state_changed_at': 1712662399, 'name': None, 'blurb': None, 'background_color': None, 'text_color': None, 'link_background_color': None, 'link_text_color': None, 'link_text': None, 'link_url': None, 'show_feature_image': False, 'background_image_opacity': 0.8, 'should_show_feature_image_section': True, 'feature_image_attributes': {'image_urls': {'default': 'https://i.kickstarter.com/assets/045/388/701/a86dd51d0c9eea57de36d311eaddb285_original.jpg?anim=false&fit=cover&gravity=auto&height=873&origin=ugc&q=92&v=1718333052&width=1552&sig=dOZJPO2bgJkBlF3GPZo%2Fo4C3l94p4EGXiuczm%2FYFDls%3D', 'baseball_card': 'https://i.kickstarter.com/assets/045/388/701/a86dd51d0c9eea57de36d311eaddb285_original.jpg?anim=false&fit=cover&gravity=auto&height=315&origin=ugc&q=92&v=1718333052&width=560&sig=rjTA8JmczkpwXXndxX3WN4iJLFIT%2FXAqwnTAq7UfjAk%3D'}}},\n",
       "       {'id': 5070372, 'project_id': 5070372, 'state': 'inactive', 'state_changed_at': 1731690200, 'name': None, 'blurb': None, 'background_color': None, 'text_color': None, 'link_background_color': None, 'link_text_color': None, 'link_text': None, 'link_url': None, 'show_feature_image': False, 'background_image_opacity': 0.8, 'should_show_feature_image_section': True, 'feature_image_attributes': {'image_urls': {'default': 'https://i.kickstarter.com/assets/050/483/322/048a4de74a20ef7e23d08a766df044ed_original.png?anim=false&fit=cover&gravity=auto&height=873&origin=ugc&q=92&v=1755619478&width=1552&sig=VfBk4wGF6C29eZ%2F0GH3x5afnLAorawFFs%2FC9B6SA%2BCs%3D', 'baseball_card': 'https://i.kickstarter.com/assets/050/483/322/048a4de74a20ef7e23d08a766df044ed_original.png?anim=false&fit=cover&gravity=auto&height=315&origin=ugc&q=92&v=1755619478&width=560&sig=3Y40LkFnsnc%2B8cjWr1HaQ8P3zvQpgNp5xA%2FLAM%2BvNkM%3D'}}},\n",
       "       {'id': 5070283, 'project_id': 5070283, 'state': 'inactive', 'state_changed_at': 1731680632, 'name': None, 'blurb': None, 'background_color': None, 'text_color': None, 'link_background_color': None, 'link_text_color': None, 'link_text': None, 'link_url': None, 'show_feature_image': False, 'background_image_opacity': 0.8, 'should_show_feature_image_section': True, 'feature_image_attributes': {'image_urls': {'default': 'https://i.kickstarter.com/assets/048/987/633/fb1605f949c3aeab470b76be917c96cc_original.png?anim=false&fit=cover&gravity=auto&height=873&origin=ugc&q=92&v=1745272505&width=1552&sig=zy0veiccByKOw%2F5Pl2oBHINVM%2BqtlYmyPp%2Fdgocudow%3D', 'baseball_card': 'https://i.kickstarter.com/assets/048/987/633/fb1605f949c3aeab470b76be917c96cc_original.png?anim=false&fit=cover&gravity=auto&height=315&origin=ugc&q=92&v=1745272505&width=560&sig=XKiYfxMR%2F4HqNUxjQdHQ%2Fze1U3Ud8TCxTA822NfrC04%3D'}}},\n",
       "       {'id': 2553872, 'project_id': 2553872, 'state': 'inactive', 'state_changed_at': 1465513291, 'name': None, 'blurb': None, 'background_color': None, 'text_color': None, 'link_background_color': None, 'link_text_color': None, 'link_text': None, 'link_url': None, 'show_feature_image': False, 'background_image_opacity': 0.8, 'should_show_feature_image_section': True, 'feature_image_attributes': {'image_urls': {'default': 'https://i.kickstarter.com/assets/012/697/906/05d750f478fe26de73be92bb021116d5_original.jpg?anim=false&fit=cover&gravity=auto&height=873&origin=ugc&q=92&v=1465513588&width=1552&sig=x%2BgLAbLlBD1sH%2B7jWMj5Y%2BORjkFcFFr4hI0k9S0lnDw%3D', 'baseball_card': 'https://i.kickstarter.com/assets/012/697/906/05d750f478fe26de73be92bb021116d5_original.jpg?anim=false&fit=cover&gravity=auto&height=315&origin=ugc&q=92&v=1465513588&width=560&sig=vftCwW%2FvLEmUR2dQTAmGAbtUzJGt2uafV6Eh5GB9ph0%3D'}}},\n",
       "       {'id': 5147669, 'project_id': 5147669, 'state': 'inactive', 'state_changed_at': 1741876381, 'name': None, 'blurb': None, 'background_color': None, 'text_color': None, 'link_background_color': None, 'link_text_color': None, 'link_text': None, 'link_url': None, 'show_feature_image': False, 'background_image_opacity': 0.8, 'should_show_feature_image_section': True, 'feature_image_attributes': {'image_urls': {'default': 'https://i.kickstarter.com/assets/048/916/785/1fba81a7ac46229cdc131eace41a5465_original.png?anim=false&fit=cover&gravity=auto&height=873&origin=ugc&q=92&v=1744730309&width=1552&sig=bbyMQEcWKoq5l5e7jKVIdcWmXvwpZ4iRZbrRM3AVG18%3D', 'baseball_card': 'https://i.kickstarter.com/assets/048/916/785/1fba81a7ac46229cdc131eace41a5465_original.png?anim=false&fit=cover&gravity=auto&height=315&origin=ugc&q=92&v=1744730309&width=560&sig=88lxl3H%2BK0BCNAXL8%2FDXzOTfoRdIhDLaJ18BT0gMEwE%3D'}}},\n",
       "       {'id': 5060640, 'project_id': 5060640, 'state': 'inactive', 'state_changed_at': 1730480242, 'name': None, 'blurb': None, 'background_color': None, 'text_color': None, 'link_background_color': None, 'link_text_color': None, 'link_text': None, 'link_url': None, 'show_feature_image': False, 'background_image_opacity': 0.8, 'should_show_feature_image_section': True, 'feature_image_attributes': {'image_urls': {'default': 'https://i.kickstarter.com/assets/047/316/800/12c8ce7dfaddc55a8eae82a8d09333d7_original.png?anim=false&fit=cover&gravity=auto&height=873&origin=ugc&q=92&v=1731944271&width=1552&sig=DM4EwcKA32w%2BoNGb%2FjV5Bfz9zsS8p5yzSbRgLOKhj%2B4%3D', 'baseball_card': 'https://i.kickstarter.com/assets/047/316/800/12c8ce7dfaddc55a8eae82a8d09333d7_original.png?anim=false&fit=cover&gravity=auto&height=315&origin=ugc&q=92&v=1731944271&width=560&sig=JLGaLcPwjRp8qZszMnDeLxYyK5UIOoUZ7DhPRDLcs1U%3D'}}},\n",
       "       {'id': 5175111, 'project_id': 5175111, 'state': 'inactive', 'state_changed_at': 1745680306, 'name': None, 'blurb': None, 'background_color': None, 'text_color': None, 'link_background_color': None, 'link_text_color': None, 'link_text': None, 'link_url': None, 'show_feature_image': False, 'background_image_opacity': 0.8, 'should_show_feature_image_section': True, 'feature_image_attributes': {'image_urls': {'default': 'https://i.kickstarter.com/assets/049/139/282/f1b0f6fe77c673148ed097f99a272615_original.jpg?anim=false&fit=cover&gravity=auto&height=873&origin=ugc&q=92&v=1746277255&width=1552&sig=%2FdU3CIcqeuNDOV5wI2ZXqx%2FSGRSjzlD0Gv%2Fgpv1mCPc%3D', 'baseball_card': 'https://i.kickstarter.com/assets/049/139/282/f1b0f6fe77c673148ed097f99a272615_original.jpg?anim=false&fit=cover&gravity=auto&height=315&origin=ugc&q=92&v=1746277255&width=560&sig=7XiMlhp9bS2%2Btkpoj5EikDOjbO63yxng4bk60FGN8QQ%3D'}}},\n",
       "       {'id': 2560238, 'project_id': 2560238, 'state': 'inactive', 'state_changed_at': 1465939931, 'name': None, 'blurb': None, 'background_color': None, 'text_color': None, 'link_background_color': None, 'link_text_color': None, 'link_text': None, 'link_url': None, 'show_feature_image': False, 'background_image_opacity': 0.8, 'should_show_feature_image_section': True, 'feature_image_attributes': {'image_urls': {'default': 'https://i.kickstarter.com/assets/012/745/167/55c0bd1fb07ea804aadf9c5e29103075_original.png?anim=false&fit=cover&gravity=auto&height=873&origin=ugc&q=92&v=1465942227&width=1552&sig=kIcT2KE8tpwqRqOaucjKY1Y7b%2BeDI7h56W6jsUT7aLw%3D', 'baseball_card': 'https://i.kickstarter.com/assets/012/745/167/55c0bd1fb07ea804aadf9c5e29103075_original.png?anim=false&fit=cover&gravity=auto&height=315&origin=ugc&q=92&v=1465942227&width=560&sig=wg7wUvT7h8WRMOp7tkuVlDVJMRX36PGwNSXRUVtx96I%3D'}}},\n",
       "       {'id': 2507841, 'project_id': 2507841, 'state': 'inactive', 'state_changed_at': 1462827199, 'name': None, 'blurb': None, 'background_color': None, 'text_color': None, 'link_background_color': None, 'link_text_color': None, 'link_text': None, 'link_url': None, 'show_feature_image': False, 'background_image_opacity': 0.8, 'should_show_feature_image_section': True, 'feature_image_attributes': {'image_urls': {'default': 'https://i.kickstarter.com/assets/012/448/378/ef6a8bc8ca6f59a03153b5252c6d0135_original.jpg?anim=false&fit=cover&gravity=auto&height=873&origin=ugc&q=92&v=1463761642&width=1552&sig=DjqAqyTGRKzZ%2FY%2BT3RtBbTXER%2FOG7mwcdqTVRRA3RXg%3D', 'baseball_card': 'https://i.kickstarter.com/assets/012/448/378/ef6a8bc8ca6f59a03153b5252c6d0135_original.jpg?anim=false&fit=cover&gravity=auto&height=315&origin=ugc&q=92&v=1463761642&width=560&sig=hQOhOxu%2FX6yd2zgZkMNuswj9lxjPv20sb7LTneOL0xE%3D'}}},\n",
       "       {'id': 4979515, 'project_id': 4979515, 'state': 'inactive', 'state_changed_at': 1723213452, 'name': None, 'blurb': None, 'background_color': None, 'text_color': None, 'link_background_color': None, 'link_text_color': None, 'link_text': None, 'link_url': None, 'show_feature_image': False, 'background_image_opacity': 0.8, 'should_show_feature_image_section': True, 'feature_image_attributes': {'image_urls': {'default': 'https://i.kickstarter.com/assets/046/025/478/7d2a70203b6463113acaa4c22528254f_original.jpeg?anim=false&fit=cover&gravity=auto&height=873&origin=ugc&q=92&v=1723215103&width=1552&sig=ZuwkH8tMQJekRf0UgiH4Mv4%2Bhkfpk8JHKnjRNo1A3yA%3D', 'baseball_card': 'https://i.kickstarter.com/assets/046/025/478/7d2a70203b6463113acaa4c22528254f_original.jpeg?anim=false&fit=cover&gravity=auto&height=315&origin=ugc&q=92&v=1723215103&width=560&sig=sEmr83mKnX1ZMtiB06D99YeMFJLALB9U9jFEAW0KB18%3D'}}},\n",
       "       {'id': 5128550, 'project_id': 5128550, 'state': 'inactive', 'state_changed_at': 1739157370, 'name': None, 'blurb': None, 'background_color': None, 'text_color': None, 'link_background_color': None, 'link_text_color': None, 'link_text': None, 'link_url': None, 'show_feature_image': False, 'background_image_opacity': 0.8, 'should_show_feature_image_section': True, 'feature_image_attributes': {'image_urls': {'default': 'https://i.kickstarter.com/assets/049/123/903/f277f4ed60825bfa99c85aef99646673_original.png?anim=false&fit=cover&gravity=auto&height=873&origin=ugc&q=92&v=1746148612&width=1552&sig=NJT%2FWwaT7h8N9n2h5P9Fl%2BsJk0FjZP16jIhqVhuey20%3D', 'baseball_card': 'https://i.kickstarter.com/assets/049/123/903/f277f4ed60825bfa99c85aef99646673_original.png?anim=false&fit=cover&gravity=auto&height=315&origin=ugc&q=92&v=1746148612&width=560&sig=1DIurk7kMu0LEBG%2F1K2yY6h6cnJsuEJMJJSX5ee4Hfc%3D'}}},\n",
       "       {'id': 5178122, 'project_id': 5178122, 'state': 'inactive', 'state_changed_at': 1746130294, 'name': None, 'blurb': None, 'background_color': None, 'text_color': None, 'link_background_color': None, 'link_text_color': None, 'link_text': None, 'link_url': None, 'show_feature_image': False, 'background_image_opacity': 0.8, 'should_show_feature_image_section': True, 'feature_image_attributes': {'image_urls': {'default': 'https://i.kickstarter.com/assets/049/132/584/7fd72be9545335f173d74ccae7c27ce7_original.jpg?anim=false&fit=cover&gravity=auto&height=873&origin=ugc&q=92&v=1746211291&width=1552&sig=vxpllV78dy1B2qr8dEfD8CY%2BXTD9%2BPes%2F7IFphbU3hU%3D', 'baseball_card': 'https://i.kickstarter.com/assets/049/132/584/7fd72be9545335f173d74ccae7c27ce7_original.jpg?anim=false&fit=cover&gravity=auto&height=315&origin=ugc&q=92&v=1746211291&width=560&sig=qszgs1Cm%2FGcAa7xzmi2ewT2XD%2FWYQgL%2Bt9YDEK9dKLo%3D'}}},\n",
       "       {'id': 124776, 'project_id': 124776, 'state': 'inactive', 'state_changed_at': 1425915807, 'name': None, 'blurb': None, 'background_color': None, 'text_color': None, 'link_background_color': None, 'link_text_color': None, 'link_text': None, 'link_url': None, 'show_feature_image': False, 'background_image_opacity': 0.8, 'should_show_feature_image_section': True, 'feature_image_attributes': {'image_urls': {'default': 'https://i.kickstarter.com/assets/011/339/234/1c2ce0dee5b960b2257dbd304ddb847f_original.JPG?anim=false&fit=cover&gravity=auto&height=873&origin=ugc&q=92&v=1463681233&width=1552&sig=3GLffzpuvbGaz7SjGRIyx%2B5HRw8U4iGoxcCWD6VJtl8%3D', 'baseball_card': 'https://i.kickstarter.com/assets/011/339/234/1c2ce0dee5b960b2257dbd304ddb847f_original.JPG?anim=false&fit=cover&gravity=auto&height=315&origin=ugc&q=92&v=1463681233&width=560&sig=qanyNqdgNrWovHmeWmIJfPgsgvxvMKoc9XUfhnYSK1k%3D'}}},\n",
       "       {'id': 2143529, 'project_id': 2143529, 'state': 'inactive', 'state_changed_at': 1443270583, 'name': None, 'blurb': None, 'background_color': None, 'text_color': None, 'link_background_color': None, 'link_text_color': None, 'link_text': None, 'link_url': None, 'show_feature_image': False, 'background_image_opacity': 0.8, 'should_show_feature_image_section': True, 'feature_image_attributes': {'image_urls': {'default': 'https://i.kickstarter.com/assets/012/263/968/3d2f98cb7dc56dfaf0b4f3abee33285b_original.png?anim=false&fit=cover&gravity=auto&height=873&origin=ugc&q=92&v=1463748024&width=1552&sig=fw8G07UxLUlkP8W4bkhhq6qRTwVAh%2Fh9cmpKumF2Fgk%3D', 'baseball_card': 'https://i.kickstarter.com/assets/012/263/968/3d2f98cb7dc56dfaf0b4f3abee33285b_original.png?anim=false&fit=cover&gravity=auto&height=315&origin=ugc&q=92&v=1463748024&width=560&sig=E4RwHg8GQrSx7HUNWYCf1eYFzunDbNCCr6qJrxzTNmY%3D'}}},\n",
       "       {'id': 2515332, 'project_id': 2515332, 'state': 'inactive', 'state_changed_at': 1463248665, 'name': None, 'blurb': None, 'background_color': None, 'text_color': None, 'link_background_color': None, 'link_text_color': None, 'link_text': None, 'link_url': None, 'show_feature_image': False, 'background_image_opacity': 0.8, 'should_show_feature_image_section': True, 'feature_image_attributes': {'image_urls': {'default': 'https://i.kickstarter.com/assets/012/452/038/e0723a2b02541d90b3e36cc51db5119c_original.jpg?anim=false&fit=cover&gravity=auto&height=873&origin=ugc&q=92&v=1463761783&width=1552&sig=k8fFdefZxYdqPtAnb4i1u8O1nKtp2tvv9DODeLhjZ7k%3D', 'baseball_card': 'https://i.kickstarter.com/assets/012/452/038/e0723a2b02541d90b3e36cc51db5119c_original.jpg?anim=false&fit=cover&gravity=auto&height=315&origin=ugc&q=92&v=1463761783&width=560&sig=0WJd%2FpEqq4tTOzaKxPHXjIk9T91T88TehVRTarLho0g%3D'}}},\n",
       "       {'id': 5100234, 'project_id': 5100234, 'state': 'active', 'state_changed_at': 1748620279, 'name': 'CURSED: Animated Scenes & Companion Book', 'blurb': 'Exquisite assets for Castle Ravenloft, Barovia, or any other gothic setting you choose to sink your fangs into. #Roll20 #Foundry', 'background_color': '', 'text_color': '', 'link_background_color': '', 'link_text_color': '', 'link_text': 'BackerKit Store Now Available!', 'link_url': 'https://cursed.backerkit.com/hosted_preorders', 'show_feature_image': False, 'background_image_opacity': 0.8, 'should_show_feature_image_section': True, 'feature_image_attributes': {'image_urls': {'default': 'https://i.kickstarter.com/assets/049/181/767/d640405736454d1dbec9218cdbb04eab_original.jpg?anim=false&fit=cover&gravity=auto&height=873&origin=ugc&q=92&v=1746577779&width=1552&sig=5Ai3staj1xD739%2B%2B1GcJjjQrj1CY0%2F3vVV4a1gRqxk4%3D', 'baseball_card': 'https://i.kickstarter.com/assets/049/181/767/d640405736454d1dbec9218cdbb04eab_original.jpg?anim=false&fit=cover&gravity=auto&height=315&origin=ugc&q=92&v=1746577779&width=560&sig=eEOhhtg4oPgdEHERJjmeacGpCK%2Bjg9nCqAxAQgScmFc%3D'}}},\n",
       "       {'id': 14426, 'project_id': 14426, 'state': 'inactive', 'state_changed_at': 1425915801, 'name': None, 'blurb': None, 'background_color': None, 'text_color': None, 'link_background_color': None, 'link_text_color': None, 'link_text': None, 'link_url': None, 'show_feature_image': False, 'background_image_opacity': 0.8, 'should_show_feature_image_section': True, 'feature_image_attributes': {'image_urls': {'default': 'https://i.kickstarter.com/assets/011/268/968/84834917879b9043730b4c18096594b1_original.gif?anim=false&fit=cover&gravity=auto&height=873&origin=ugc&q=92&v=1463673853&width=1552&sig=p4Vcw6LEfS5NPHC6iQq1V6svyNLCC%2BUD3XYAki4W74Y%3D', 'baseball_card': 'https://i.kickstarter.com/assets/011/268/968/84834917879b9043730b4c18096594b1_original.gif?anim=false&fit=cover&gravity=auto&height=315&origin=ugc&q=92&v=1463673853&width=560&sig=5tWEKxDsgB4F6RykQ6sp4tiDcAh9WVQe98qVwxyn1LA%3D'}}}],\n",
       "      dtype=object)"
      ]
     },
     "execution_count": 93,
     "metadata": {},
     "output_type": "execute_result"
    }
   ],
   "source": [
    "pd.set_option(\"display.width\", None)\n",
    "pd.set_option(\"display.max_columns\", None)\n",
    "kick_clean['profile'].tail(20).apply(parse_json_feature).values"
   ]
  },
  {
   "cell_type": "markdown",
   "id": "b18f67de",
   "metadata": {},
   "source": [
    "\n",
    "- Contains redundant text information (like title and blurb), and upon further examination, the extra page styling information is fully missing from this variable. Because of this, this is deemed not useful to extract and redundant."
   ]
  },
  {
   "cell_type": "code",
   "execution_count": 68,
   "id": "ab5d3bc3",
   "metadata": {},
   "outputs": [],
   "source": [
    "def drop_profile(df: pd.DataFrame) -> pd.DataFrame:\n",
    "    df = df.drop(columns = ['profile']).copy()\n",
    "    return df"
   ]
  },
  {
   "cell_type": "markdown",
   "id": "77ea8185",
   "metadata": {},
   "source": [
    "---\n",
    "\n",
    "Applying data filtering for leakage prevention and feature relevance"
   ]
  },
  {
   "cell_type": "code",
   "execution_count": 101,
   "id": "aa06f0e6",
   "metadata": {},
   "outputs": [],
   "source": [
    "def apply_data_filtering_steps(df: pd.DataFrame) -> pd.DataFrame:\n",
    "    df = keep_only_final_outcome_states(df)\n",
    "    df = drop_leakage_columns(df)\n",
    "    df = drop_irrelevant_columns(df)\n",
    "    df = drop_photo(df)\n",
    "    df = drop_creator(df)\n",
    "    df = drop_profile(df)\n",
    "    return df\n",
    "kick_clean = apply_data_filtering_steps(kick_clean)"
   ]
  },
  {
   "cell_type": "code",
   "execution_count": 103,
   "id": "c6a7f675",
   "metadata": {},
   "outputs": [
    {
     "name": "stdout",
     "output_type": "stream",
     "text": [
      "<class 'pandas.core.frame.DataFrame'>\n",
      "Index: 228211 entries, 0 to 262890\n",
      "Data columns (total 21 columns):\n",
      " #   Column                 Non-Null Count   Dtype  \n",
      "---  ------                 --------------   -----  \n",
      " 0   blurb                  228211 non-null  object \n",
      " 1   category               228211 non-null  object \n",
      " 2   country                228211 non-null  object \n",
      " 3   created_at             228211 non-null  int64  \n",
      " 4   currency               228211 non-null  object \n",
      " 5   deadline               228211 non-null  int64  \n",
      " 6   disable_communication  228211 non-null  bool   \n",
      " 7   fx_rate                228211 non-null  float64\n",
      " 8   goal                   228211 non-null  float64\n",
      " 9   is_launched            228211 non-null  bool   \n",
      " 10  launched_at            228211 non-null  int64  \n",
      " 11  name                   228211 non-null  object \n",
      " 12  prelaunch_activated    228211 non-null  bool   \n",
      " 13  staff_pick             228211 non-null  bool   \n",
      " 14  state                  228211 non-null  object \n",
      " 15  static_usd_rate        228211 non-null  float64\n",
      " 16  usd_type               228211 non-null  object \n",
      " 17  loc_name               228211 non-null  object \n",
      " 18  loc_state              228211 non-null  object \n",
      " 19  loc_type               228211 non-null  object \n",
      " 20  has_video              228211 non-null  bool   \n",
      "dtypes: bool(5), float64(3), int64(3), object(10)\n",
      "memory usage: 30.7+ MB\n"
     ]
    }
   ],
   "source": [
    "kick_clean.info()"
   ]
  },
  {
   "cell_type": "markdown",
   "id": "10e9161f",
   "metadata": {},
   "source": [
    "### Feature Engineering\n",
    "\n",
    "Here we will address further features that may be relevant, but are currently unusuable in our future modeling. We need to:\n",
    "- Parse the remaining JSON features and extract relevant info\n",
    "- Convert text data into usable forms\n",
    "\n",
    "\n",
    "For `category`:\n",
    "- `category` is be a relevant feature, but it is, like many other features, in string literal JSON dictionary form and is unsuable in the current state. We will transform this variable, and engineering features from it that may be useful to us."
   ]
  },
  {
   "cell_type": "markdown",
   "id": "4a8a0a61",
   "metadata": {},
   "source": []
  },
  {
   "cell_type": "markdown",
   "id": "45a0f4f8",
   "metadata": {},
   "source": [
    "### Descriptive Statistics\n",
    "\n",
    "Some descriptive statistics, separated by variable type"
   ]
  },
  {
   "cell_type": "code",
   "execution_count": 105,
   "id": "dee36abb",
   "metadata": {},
   "outputs": [
    {
     "data": {
      "text/html": [
       "<div>\n",
       "<style scoped>\n",
       "    .dataframe tbody tr th:only-of-type {\n",
       "        vertical-align: middle;\n",
       "    }\n",
       "\n",
       "    .dataframe tbody tr th {\n",
       "        vertical-align: top;\n",
       "    }\n",
       "\n",
       "    .dataframe thead th {\n",
       "        text-align: right;\n",
       "    }\n",
       "</style>\n",
       "<table border=\"1\" class=\"dataframe\">\n",
       "  <thead>\n",
       "    <tr style=\"text-align: right;\">\n",
       "      <th></th>\n",
       "      <th>created_at</th>\n",
       "      <th>deadline</th>\n",
       "      <th>fx_rate</th>\n",
       "      <th>goal</th>\n",
       "      <th>launched_at</th>\n",
       "      <th>static_usd_rate</th>\n",
       "    </tr>\n",
       "  </thead>\n",
       "  <tbody>\n",
       "    <tr>\n",
       "      <th>count</th>\n",
       "      <td>2.282110e+05</td>\n",
       "      <td>2.282110e+05</td>\n",
       "      <td>228211.000000</td>\n",
       "      <td>2.282110e+05</td>\n",
       "      <td>2.282110e+05</td>\n",
       "      <td>228211.000000</td>\n",
       "    </tr>\n",
       "    <tr>\n",
       "      <th>mean</th>\n",
       "      <td>1.577898e+09</td>\n",
       "      <td>1.585630e+09</td>\n",
       "      <td>0.984568</td>\n",
       "      <td>5.536750e+04</td>\n",
       "      <td>1.582766e+09</td>\n",
       "      <td>0.980131</td>\n",
       "    </tr>\n",
       "    <tr>\n",
       "      <th>std</th>\n",
       "      <td>1.310069e+08</td>\n",
       "      <td>1.314081e+08</td>\n",
       "      <td>0.270366</td>\n",
       "      <td>3.136087e+06</td>\n",
       "      <td>1.314160e+08</td>\n",
       "      <td>0.266180</td>\n",
       "    </tr>\n",
       "    <tr>\n",
       "      <th>min</th>\n",
       "      <td>1.240366e+09</td>\n",
       "      <td>1.242468e+09</td>\n",
       "      <td>0.006782</td>\n",
       "      <td>1.000000e-02</td>\n",
       "      <td>1.240674e+09</td>\n",
       "      <td>0.006209</td>\n",
       "    </tr>\n",
       "    <tr>\n",
       "      <th>25%</th>\n",
       "      <td>1.459899e+09</td>\n",
       "      <td>1.466835e+09</td>\n",
       "      <td>1.000000</td>\n",
       "      <td>1.415000e+03</td>\n",
       "      <td>1.464031e+09</td>\n",
       "      <td>1.000000</td>\n",
       "    </tr>\n",
       "    <tr>\n",
       "      <th>50%</th>\n",
       "      <td>1.587402e+09</td>\n",
       "      <td>1.596140e+09</td>\n",
       "      <td>1.000000</td>\n",
       "      <td>5.000000e+03</td>\n",
       "      <td>1.593036e+09</td>\n",
       "      <td>1.000000</td>\n",
       "    </tr>\n",
       "    <tr>\n",
       "      <th>75%</th>\n",
       "      <td>1.709572e+09</td>\n",
       "      <td>1.717887e+09</td>\n",
       "      <td>1.000000</td>\n",
       "      <td>1.360000e+04</td>\n",
       "      <td>1.715099e+09</td>\n",
       "      <td>1.000000</td>\n",
       "    </tr>\n",
       "    <tr>\n",
       "      <th>max</th>\n",
       "      <td>1.756966e+09</td>\n",
       "      <td>1.757567e+09</td>\n",
       "      <td>1.353290</td>\n",
       "      <td>1.000000e+09</td>\n",
       "      <td>1.757149e+09</td>\n",
       "      <td>1.716408</td>\n",
       "    </tr>\n",
       "  </tbody>\n",
       "</table>\n",
       "</div>"
      ],
      "text/plain": [
       "         created_at      deadline        fx_rate          goal   launched_at  \\\n",
       "count  2.282110e+05  2.282110e+05  228211.000000  2.282110e+05  2.282110e+05   \n",
       "mean   1.577898e+09  1.585630e+09       0.984568  5.536750e+04  1.582766e+09   \n",
       "std    1.310069e+08  1.314081e+08       0.270366  3.136087e+06  1.314160e+08   \n",
       "min    1.240366e+09  1.242468e+09       0.006782  1.000000e-02  1.240674e+09   \n",
       "25%    1.459899e+09  1.466835e+09       1.000000  1.415000e+03  1.464031e+09   \n",
       "50%    1.587402e+09  1.596140e+09       1.000000  5.000000e+03  1.593036e+09   \n",
       "75%    1.709572e+09  1.717887e+09       1.000000  1.360000e+04  1.715099e+09   \n",
       "max    1.756966e+09  1.757567e+09       1.353290  1.000000e+09  1.757149e+09   \n",
       "\n",
       "       static_usd_rate  \n",
       "count    228211.000000  \n",
       "mean          0.980131  \n",
       "std           0.266180  \n",
       "min           0.006209  \n",
       "25%           1.000000  \n",
       "50%           1.000000  \n",
       "75%           1.000000  \n",
       "max           1.716408  "
      ]
     },
     "execution_count": 105,
     "metadata": {},
     "output_type": "execute_result"
    }
   ],
   "source": [
    "# kickstarter.describe()\n",
    "kick_clean.describe()"
   ]
  },
  {
   "cell_type": "markdown",
   "id": "2474bb72",
   "metadata": {},
   "source": []
  },
  {
   "cell_type": "code",
   "execution_count": 106,
   "id": "734aadda",
   "metadata": {},
   "outputs": [
    {
     "data": {
      "text/html": [
       "<div>\n",
       "<style scoped>\n",
       "    .dataframe tbody tr th:only-of-type {\n",
       "        vertical-align: middle;\n",
       "    }\n",
       "\n",
       "    .dataframe tbody tr th {\n",
       "        vertical-align: top;\n",
       "    }\n",
       "\n",
       "    .dataframe thead th {\n",
       "        text-align: right;\n",
       "    }\n",
       "</style>\n",
       "<table border=\"1\" class=\"dataframe\">\n",
       "  <thead>\n",
       "    <tr style=\"text-align: right;\">\n",
       "      <th></th>\n",
       "      <th>blurb</th>\n",
       "      <th>category</th>\n",
       "      <th>country</th>\n",
       "      <th>currency</th>\n",
       "      <th>name</th>\n",
       "      <th>state</th>\n",
       "      <th>usd_type</th>\n",
       "      <th>loc_name</th>\n",
       "      <th>loc_state</th>\n",
       "      <th>loc_type</th>\n",
       "    </tr>\n",
       "  </thead>\n",
       "  <tbody>\n",
       "    <tr>\n",
       "      <th>count</th>\n",
       "      <td>228211</td>\n",
       "      <td>228211</td>\n",
       "      <td>228211</td>\n",
       "      <td>228211</td>\n",
       "      <td>228211</td>\n",
       "      <td>228211</td>\n",
       "      <td>228211</td>\n",
       "      <td>228211</td>\n",
       "      <td>228211</td>\n",
       "      <td>228211</td>\n",
       "    </tr>\n",
       "    <tr>\n",
       "      <th>unique</th>\n",
       "      <td>183807</td>\n",
       "      <td>171</td>\n",
       "      <td>25</td>\n",
       "      <td>15</td>\n",
       "      <td>185407</td>\n",
       "      <td>2</td>\n",
       "      <td>1</td>\n",
       "      <td>13415</td>\n",
       "      <td>1189</td>\n",
       "      <td>9</td>\n",
       "    </tr>\n",
       "    <tr>\n",
       "      <th>top</th>\n",
       "      <td>A high-quality Figurines, STL file, 3D printab...</td>\n",
       "      <td>{\"id\":34,\"name\":\"Tabletop Games\",\"analytics_na...</td>\n",
       "      <td>US</td>\n",
       "      <td>USD</td>\n",
       "      <td>A Midsummer Night's Dream</td>\n",
       "      <td>successful</td>\n",
       "      <td>domestic</td>\n",
       "      <td>London</td>\n",
       "      <td>CA</td>\n",
       "      <td>Town</td>\n",
       "    </tr>\n",
       "    <tr>\n",
       "      <th>freq</th>\n",
       "      <td>55</td>\n",
       "      <td>7086</td>\n",
       "      <td>144928</td>\n",
       "      <td>144937</td>\n",
       "      <td>9</td>\n",
       "      <td>150630</td>\n",
       "      <td>228211</td>\n",
       "      <td>9819</td>\n",
       "      <td>25302</td>\n",
       "      <td>211875</td>\n",
       "    </tr>\n",
       "  </tbody>\n",
       "</table>\n",
       "</div>"
      ],
      "text/plain": [
       "                                                    blurb  \\\n",
       "count                                              228211   \n",
       "unique                                             183807   \n",
       "top     A high-quality Figurines, STL file, 3D printab...   \n",
       "freq                                                   55   \n",
       "\n",
       "                                                 category country currency  \\\n",
       "count                                              228211  228211   228211   \n",
       "unique                                                171      25       15   \n",
       "top     {\"id\":34,\"name\":\"Tabletop Games\",\"analytics_na...      US      USD   \n",
       "freq                                                 7086  144928   144937   \n",
       "\n",
       "                             name       state  usd_type loc_name loc_state  \\\n",
       "count                      228211      228211    228211   228211    228211   \n",
       "unique                     185407           2         1    13415      1189   \n",
       "top     A Midsummer Night's Dream  successful  domestic   London        CA   \n",
       "freq                            9      150630    228211     9819     25302   \n",
       "\n",
       "       loc_type  \n",
       "count    228211  \n",
       "unique        9  \n",
       "top        Town  \n",
       "freq     211875  "
      ]
     },
     "execution_count": 106,
     "metadata": {},
     "output_type": "execute_result"
    }
   ],
   "source": [
    "kick_clean.select_dtypes('object').describe()"
   ]
  },
  {
   "cell_type": "code",
   "execution_count": 107,
   "id": "e1e3312d",
   "metadata": {},
   "outputs": [
    {
     "data": {
      "text/html": [
       "<div>\n",
       "<style scoped>\n",
       "    .dataframe tbody tr th:only-of-type {\n",
       "        vertical-align: middle;\n",
       "    }\n",
       "\n",
       "    .dataframe tbody tr th {\n",
       "        vertical-align: top;\n",
       "    }\n",
       "\n",
       "    .dataframe thead th {\n",
       "        text-align: right;\n",
       "    }\n",
       "</style>\n",
       "<table border=\"1\" class=\"dataframe\">\n",
       "  <thead>\n",
       "    <tr style=\"text-align: right;\">\n",
       "      <th></th>\n",
       "      <th>disable_communication</th>\n",
       "      <th>is_launched</th>\n",
       "      <th>prelaunch_activated</th>\n",
       "      <th>staff_pick</th>\n",
       "      <th>has_video</th>\n",
       "    </tr>\n",
       "  </thead>\n",
       "  <tbody>\n",
       "    <tr>\n",
       "      <th>count</th>\n",
       "      <td>228211</td>\n",
       "      <td>228211</td>\n",
       "      <td>228211</td>\n",
       "      <td>228211</td>\n",
       "      <td>228211</td>\n",
       "    </tr>\n",
       "    <tr>\n",
       "      <th>unique</th>\n",
       "      <td>2</td>\n",
       "      <td>1</td>\n",
       "      <td>2</td>\n",
       "      <td>2</td>\n",
       "      <td>2</td>\n",
       "    </tr>\n",
       "    <tr>\n",
       "      <th>top</th>\n",
       "      <td>False</td>\n",
       "      <td>True</td>\n",
       "      <td>False</td>\n",
       "      <td>False</td>\n",
       "      <td>True</td>\n",
       "    </tr>\n",
       "    <tr>\n",
       "      <th>freq</th>\n",
       "      <td>228209</td>\n",
       "      <td>228211</td>\n",
       "      <td>161534</td>\n",
       "      <td>189373</td>\n",
       "      <td>153473</td>\n",
       "    </tr>\n",
       "  </tbody>\n",
       "</table>\n",
       "</div>"
      ],
      "text/plain": [
       "       disable_communication is_launched prelaunch_activated staff_pick  \\\n",
       "count                 228211      228211              228211     228211   \n",
       "unique                     2           1                   2          2   \n",
       "top                    False        True               False      False   \n",
       "freq                  228209      228211              161534     189373   \n",
       "\n",
       "       has_video  \n",
       "count     228211  \n",
       "unique         2  \n",
       "top         True  \n",
       "freq      153473  "
      ]
     },
     "execution_count": 107,
     "metadata": {},
     "output_type": "execute_result"
    }
   ],
   "source": [
    "kick_clean.select_dtypes('bool').describe()"
   ]
  },
  {
   "cell_type": "markdown",
   "id": "9065cf39",
   "metadata": {},
   "source": [
    "### Feature Engineering"
   ]
  },
  {
   "cell_type": "markdown",
   "id": "25473a0b",
   "metadata": {},
   "source": [
    "# MODELING\n",
    "\n",
    "1. Naive baseline (majority class model)\n",
    "- Predict everything as the majority class"
   ]
  },
  {
   "cell_type": "code",
   "execution_count": 122,
   "id": "acfe74fc",
   "metadata": {},
   "outputs": [
    {
     "name": "stdout",
     "output_type": "stream",
     "text": [
      "Majority class baseline model accuracy: 66.00%\n"
     ]
    }
   ],
   "source": [
    "majority_class = kick_clean['state'].value_counts().sort_values(ascending = False).keys()[0]\n",
    "predictions = np.full_like(kick_clean['state'], majority_class)\n",
    "\n",
    "accuracy = (predictions == kick_clean['state']).mean()\n",
    "\n",
    "print(f\"Majority class baseline model accuracy: {accuracy * 100:.2f}%\")"
   ]
  }
 ],
 "metadata": {
  "kernelspec": {
   "display_name": "CMSE802",
   "language": "python",
   "name": "python3"
  },
  "language_info": {
   "codemirror_mode": {
    "name": "ipython",
    "version": 3
   },
   "file_extension": ".py",
   "mimetype": "text/x-python",
   "name": "python",
   "nbconvert_exporter": "python",
   "pygments_lexer": "ipython3",
   "version": "3.13.5"
  }
 },
 "nbformat": 4,
 "nbformat_minor": 5
}
